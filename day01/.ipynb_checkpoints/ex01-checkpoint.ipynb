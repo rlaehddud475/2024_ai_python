{
 "cells": [
  {
   "cell_type": "code",
   "execution_count": 1,
   "id": "c6a800f6-a856-42d1-b09d-2f637552bc53",
   "metadata": {},
   "outputs": [
    {
     "name": "stdout",
     "output_type": "stream",
     "text": [
      "첫번째 파이썬 프로그램\n"
     ]
    }
   ],
   "source": [
    "print(\"첫번째 파이썬 프로그램\")"
   ]
  },
  {
   "cell_type": "code",
   "execution_count": 2,
   "id": "1a8b0500-faa6-4871-b941-a94362f58a6d",
   "metadata": {},
   "outputs": [
    {
     "data": {
      "text/plain": [
       "8"
      ]
     },
     "execution_count": 2,
     "metadata": {},
     "output_type": "execute_result"
    }
   ],
   "source": [
    "2**3 #2의 3제곱"
   ]
  },
  {
   "cell_type": "code",
   "execution_count": 5,
   "id": "0f639421-9bcc-4b17-954f-a4fc9ab92435",
   "metadata": {},
   "outputs": [
    {
     "name": "stdout",
     "output_type": "stream",
     "text": [
      "1\n",
      "4\n"
     ]
    }
   ],
   "source": [
    "#//몫을 구하는 연산자\n",
    "print(9%2)\n",
    "print(9//2)"
   ]
  },
  {
   "cell_type": "code",
   "execution_count": 8,
   "id": "96dec2bb-5e65-4c0f-8ef5-75d7303531dc",
   "metadata": {},
   "outputs": [
    {
     "data": {
      "text/plain": [
       "str"
      ]
     },
     "execution_count": 8,
     "metadata": {},
     "output_type": "execute_result"
    }
   ],
   "source": [
    "#a=100\n",
    "#a=100.123\n",
    "#a=\"Python\"\n",
    "a='Python'\n",
    "type(a)#자료형 체크 함수"
   ]
  },
  {
   "cell_type": "code",
   "execution_count": 9,
   "id": "afe9afe8-932f-479c-8cb2-8ad8e6cb6484",
   "metadata": {},
   "outputs": [
    {
     "data": {
      "text/plain": [
       "\"Python's favorite food is perl\""
      ]
     },
     "execution_count": 9,
     "metadata": {},
     "output_type": "execute_result"
    }
   ],
   "source": [
    "\"Python's favorite food is perl\""
   ]
  },
  {
   "cell_type": "code",
   "execution_count": 11,
   "id": "29522504-4fa6-4a07-9da5-83f54e914fbc",
   "metadata": {},
   "outputs": [
    {
     "data": {
      "text/plain": [
       "\"Python's favorite food is perl\""
      ]
     },
     "execution_count": 11,
     "metadata": {},
     "output_type": "execute_result"
    }
   ],
   "source": [
    "#'Python's favorite food is perl' 오류 발생(문법오류)\n",
    "'Python\\'s favorite food is perl'"
   ]
  },
  {
   "cell_type": "code",
   "execution_count": 14,
   "id": "9a7e4384-8e0b-46e4-b985-d49167629100",
   "metadata": {},
   "outputs": [
    {
     "name": "stdout",
     "output_type": "stream",
     "text": [
      "Life is short,\n",
      "You need python\n"
     ]
    }
   ],
   "source": [
    "a=\"Life is short,\\nYou need python\"\n",
    "print(a)"
   ]
  },
  {
   "cell_type": "code",
   "execution_count": 15,
   "id": "15acbf15-b7ce-4ad1-8e58-1fea3e132060",
   "metadata": {},
   "outputs": [
    {
     "name": "stdout",
     "output_type": "stream",
     "text": [
      "Lige is short, \n",
      "You need python\n"
     ]
    }
   ],
   "source": [
    "b=\"\"\"Life is short, \n",
    "You need python\"\"\"\n",
    "print(b)"
   ]
  },
  {
   "cell_type": "code",
   "execution_count": 17,
   "id": "98d11d61-1816-43db-b8d7-ce5f8f3321c6",
   "metadata": {},
   "outputs": [
    {
     "data": {
      "text/plain": [
       "'pythonisfun!'"
      ]
     },
     "execution_count": 17,
     "metadata": {},
     "output_type": "execute_result"
    }
   ],
   "source": [
    "\"python\" + \"is\" + \"fun!\""
   ]
  },
  {
   "cell_type": "code",
   "execution_count": 18,
   "id": "71add63a-9c82-4498-9028-a2cfc656088f",
   "metadata": {},
   "outputs": [
    {
     "data": {
      "text/plain": [
       "'python python python '"
      ]
     },
     "execution_count": 18,
     "metadata": {},
     "output_type": "execute_result"
    }
   ],
   "source": [
    "\"python \" * 3"
   ]
  },
  {
   "cell_type": "code",
   "execution_count": 21,
   "id": "b99c4865-ff37-4362-9c63-44a5c9da1211",
   "metadata": {},
   "outputs": [
    {
     "name": "stdout",
     "output_type": "stream",
     "text": [
      "==============================\n",
      "파이썬 썅넘의 거\n",
      "==============================\n"
     ]
    }
   ],
   "source": [
    "print(\"=\"*30)\n",
    "print(\"파이썬 썅넘의 거\")\n",
    "print(\"=\"*30)"
   ]
  },
  {
   "cell_type": "code",
   "execution_count": 22,
   "id": "d80d9944-9b39-4eeb-ad4f-d39176ebbe95",
   "metadata": {},
   "outputs": [
    {
     "data": {
      "text/plain": [
       "5"
      ]
     },
     "execution_count": 22,
     "metadata": {},
     "output_type": "execute_result"
    }
   ],
   "source": [
    "a=\"가나다라마\"\n",
    "len(a)"
   ]
  },
  {
   "cell_type": "code",
   "execution_count": 34,
   "id": "db788605-3999-4d24-ab5d-dd049debde26",
   "metadata": {},
   "outputs": [],
   "source": [
    "a = \"Life is too short, You need python\""
   ]
  },
  {
   "cell_type": "code",
   "execution_count": 40,
   "id": "47151e64-8f72-4cfc-b4cc-1000b6b857b1",
   "metadata": {},
   "outputs": [
    {
     "data": {
      "text/plain": [
       "'python'"
      ]
     },
     "execution_count": 40,
     "metadata": {},
     "output_type": "execute_result"
    }
   ],
   "source": [
    "a[24:34]"
   ]
  },
  {
   "cell_type": "code",
   "execution_count": 33,
   "id": "f1e2c6fc-487c-45a3-b800-92f80912ce3e",
   "metadata": {},
   "outputs": [
    {
     "data": {
      "text/plain": [
       "'LiFe'"
      ]
     },
     "execution_count": 33,
     "metadata": {},
     "output_type": "execute_result"
    }
   ],
   "source": [
    "a[0:4]"
   ]
  },
  {
   "cell_type": "code",
   "execution_count": 31,
   "id": "c7b019c1-a5d9-46c1-8814-435cfe47d383",
   "metadata": {},
   "outputs": [
    {
     "data": {
      "text/plain": [
       "'n'"
      ]
     },
     "execution_count": 31,
     "metadata": {},
     "output_type": "execute_result"
    }
   ],
   "source": [
    "a[-1]"
   ]
  },
  {
   "cell_type": "code",
   "execution_count": 25,
   "id": "2d5775bd-56fc-4457-b2ea-17ab1ff263ab",
   "metadata": {},
   "outputs": [
    {
     "data": {
      "text/plain": [
       "'F'"
      ]
     },
     "execution_count": 25,
     "metadata": {},
     "output_type": "execute_result"
    }
   ],
   "source": [
    "a[2]"
   ]
  },
  {
   "cell_type": "code",
   "execution_count": 26,
   "id": "b9613dda-9250-4d50-9ee8-c62402f9e895",
   "metadata": {},
   "outputs": [
    {
     "ename": "TypeError",
     "evalue": "'str' object does not support item assignment",
     "output_type": "error",
     "traceback": [
      "\u001b[1;31m---------------------------------------------------------------------------\u001b[0m",
      "\u001b[1;31mTypeError\u001b[0m                                 Traceback (most recent call last)",
      "Cell \u001b[1;32mIn[26], line 1\u001b[0m\n\u001b[1;32m----> 1\u001b[0m \u001b[43ma\u001b[49m\u001b[43m[\u001b[49m\u001b[38;5;241;43m2\u001b[39;49m\u001b[43m]\u001b[49m\u001b[38;5;241m=\u001b[39m\u001b[38;5;124m\"\u001b[39m\u001b[38;5;124mF\u001b[39m\u001b[38;5;124m\"\u001b[39m\n",
      "\u001b[1;31mTypeError\u001b[0m: 'str' object does not support item assignment"
     ]
    }
   ],
   "source": [
    "a[2]=\"F\""
   ]
  },
  {
   "cell_type": "code",
   "execution_count": 30,
   "id": "d430a3a2-3fb0-4d98-863f-525aafc91637",
   "metadata": {},
   "outputs": [
    {
     "name": "stdout",
     "output_type": "stream",
     "text": [
      "140732728296368\n",
      "1675635326768\n",
      "ABCDEF\n"
     ]
    }
   ],
   "source": [
    "b=\"ABC\"\n",
    "print(id(b))\n",
    "\n",
    "b+=\"DEF\"\n",
    "print(id(b)) #문자열은 불변 새로 추가하면 새로운 문자열 객체가 생성\n",
    "print(b)"
   ]
  },
  {
   "cell_type": "code",
   "execution_count": null,
   "id": "a7865435-7075-4731-b8ad-509678c79b48",
   "metadata": {},
   "outputs": [],
   "source": []
  }
 ],
 "metadata": {
  "kernelspec": {
   "display_name": "Python 3 (ipykernel)",
   "language": "python",
   "name": "python3"
  },
  "language_info": {
   "codemirror_mode": {
    "name": "ipython",
    "version": 3
   },
   "file_extension": ".py",
   "mimetype": "text/x-python",
   "name": "python",
   "nbconvert_exporter": "python",
   "pygments_lexer": "ipython3",
   "version": "3.12.7"
  }
 },
 "nbformat": 4,
 "nbformat_minor": 5
}
