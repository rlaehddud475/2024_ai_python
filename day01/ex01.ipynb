{
 "cells": [
  {
   "cell_type": "code",
   "execution_count": 1,
   "id": "c6a800f6-a856-42d1-b09d-2f637552bc53",
   "metadata": {},
   "outputs": [
    {
     "name": "stdout",
     "output_type": "stream",
     "text": [
      "첫번째 파이썬 프로그램\n"
     ]
    }
   ],
   "source": [
    "print(\"첫번째 파이썬 프로그램\")"
   ]
  },
  {
   "cell_type": "code",
   "execution_count": 2,
   "id": "1a8b0500-faa6-4871-b941-a94362f58a6d",
   "metadata": {},
   "outputs": [
    {
     "data": {
      "text/plain": [
       "8"
      ]
     },
     "execution_count": 2,
     "metadata": {},
     "output_type": "execute_result"
    }
   ],
   "source": [
    "2**3 #2의 3제곱"
   ]
  },
  {
   "cell_type": "code",
   "execution_count": 5,
   "id": "0f639421-9bcc-4b17-954f-a4fc9ab92435",
   "metadata": {},
   "outputs": [
    {
     "name": "stdout",
     "output_type": "stream",
     "text": [
      "1\n",
      "4\n"
     ]
    }
   ],
   "source": [
    "#//몫을 구하는 연산자\n",
    "print(9%2)\n",
    "print(9//2)"
   ]
  },
  {
   "cell_type": "code",
   "execution_count": 8,
   "id": "96dec2bb-5e65-4c0f-8ef5-75d7303531dc",
   "metadata": {},
   "outputs": [
    {
     "data": {
      "text/plain": [
       "str"
      ]
     },
     "execution_count": 8,
     "metadata": {},
     "output_type": "execute_result"
    }
   ],
   "source": [
    "#a=100\n",
    "#a=100.123\n",
    "#a=\"Python\"\n",
    "a='Python'\n",
    "type(a)#자료형 체크 함수"
   ]
  },
  {
   "cell_type": "code",
   "execution_count": 9,
   "id": "afe9afe8-932f-479c-8cb2-8ad8e6cb6484",
   "metadata": {},
   "outputs": [
    {
     "data": {
      "text/plain": [
       "\"Python's favorite food is perl\""
      ]
     },
     "execution_count": 9,
     "metadata": {},
     "output_type": "execute_result"
    }
   ],
   "source": [
    "\"Python's favorite food is perl\""
   ]
  },
  {
   "cell_type": "code",
   "execution_count": 11,
   "id": "29522504-4fa6-4a07-9da5-83f54e914fbc",
   "metadata": {},
   "outputs": [
    {
     "data": {
      "text/plain": [
       "\"Python's favorite food is perl\""
      ]
     },
     "execution_count": 11,
     "metadata": {},
     "output_type": "execute_result"
    }
   ],
   "source": [
    "#'Python's favorite food is perl' 오류 발생(문법오류)\n",
    "'Python\\'s favorite food is perl'"
   ]
  },
  {
   "cell_type": "code",
   "execution_count": 14,
   "id": "9a7e4384-8e0b-46e4-b985-d49167629100",
   "metadata": {},
   "outputs": [
    {
     "name": "stdout",
     "output_type": "stream",
     "text": [
      "Life is short,\n",
      "You need python\n"
     ]
    }
   ],
   "source": [
    "a=\"Life is short,\\nYou need python\"\n",
    "print(a)"
   ]
  },
  {
   "cell_type": "code",
   "execution_count": 15,
   "id": "15acbf15-b7ce-4ad1-8e58-1fea3e132060",
   "metadata": {},
   "outputs": [
    {
     "name": "stdout",
     "output_type": "stream",
     "text": [
      "Lige is short, \n",
      "You need python\n"
     ]
    }
   ],
   "source": [
    "b=\"\"\"Life is short, \n",
    "You need python\"\"\"\n",
    "print(b)"
   ]
  },
  {
   "cell_type": "code",
   "execution_count": 17,
   "id": "98d11d61-1816-43db-b8d7-ce5f8f3321c6",
   "metadata": {},
   "outputs": [
    {
     "data": {
      "text/plain": [
       "'pythonisfun!'"
      ]
     },
     "execution_count": 17,
     "metadata": {},
     "output_type": "execute_result"
    }
   ],
   "source": [
    "\"python\" + \"is\" + \"fun!\""
   ]
  },
  {
   "cell_type": "code",
   "execution_count": 18,
   "id": "71add63a-9c82-4498-9028-a2cfc656088f",
   "metadata": {},
   "outputs": [
    {
     "data": {
      "text/plain": [
       "'python python python '"
      ]
     },
     "execution_count": 18,
     "metadata": {},
     "output_type": "execute_result"
    }
   ],
   "source": [
    "\"python \" * 3"
   ]
  },
  {
   "cell_type": "code",
   "execution_count": 21,
   "id": "b99c4865-ff37-4362-9c63-44a5c9da1211",
   "metadata": {},
   "outputs": [
    {
     "name": "stdout",
     "output_type": "stream",
     "text": [
      "==============================\n",
      "파이썬 썅넘의 거\n",
      "==============================\n"
     ]
    }
   ],
   "source": [
    "print(\"=\"*30)\n",
    "print(\"파이썬 썅넘의 거\")\n",
    "print(\"=\"*30)"
   ]
  },
  {
   "cell_type": "code",
   "execution_count": 22,
   "id": "d80d9944-9b39-4eeb-ad4f-d39176ebbe95",
   "metadata": {},
   "outputs": [
    {
     "data": {
      "text/plain": [
       "5"
      ]
     },
     "execution_count": 22,
     "metadata": {},
     "output_type": "execute_result"
    }
   ],
   "source": [
    "a=\"가나다라마\"\n",
    "len(a)"
   ]
  },
  {
   "cell_type": "code",
   "execution_count": 34,
   "id": "db788605-3999-4d24-ab5d-dd049debde26",
   "metadata": {},
   "outputs": [],
   "source": [
    "a = \"Life is too short, You need python\""
   ]
  },
  {
   "cell_type": "code",
   "execution_count": 49,
   "id": "b698a026-a2c7-4b81-a050-22a793f3ae06",
   "metadata": {},
   "outputs": [
    {
     "name": "stdout",
     "output_type": "stream",
     "text": [
      "Life is short, You need python\n",
      "1675641044256 1675641044256\n"
     ]
    }
   ],
   "source": [
    "b=a[:] # 문자열 전체 복사\n",
    "print(b)\n",
    "print(id(a), id(b))"
   ]
  },
  {
   "cell_type": "code",
   "execution_count": 45,
   "id": "47151e64-8f72-4cfc-b4cc-1000b6b857b1",
   "metadata": {},
   "outputs": [
    {
     "data": {
      "text/plain": [
       "'Life is short, You need'"
      ]
     },
     "execution_count": 45,
     "metadata": {},
     "output_type": "execute_result"
    }
   ],
   "source": [
    "a[-6:]\n",
    "a[:-7]"
   ]
  },
  {
   "cell_type": "code",
   "execution_count": 33,
   "id": "f1e2c6fc-487c-45a3-b800-92f80912ce3e",
   "metadata": {},
   "outputs": [
    {
     "data": {
      "text/plain": [
       "'LiFe'"
      ]
     },
     "execution_count": 33,
     "metadata": {},
     "output_type": "execute_result"
    }
   ],
   "source": [
    "a[0:4]"
   ]
  },
  {
   "cell_type": "code",
   "execution_count": 31,
   "id": "c7b019c1-a5d9-46c1-8814-435cfe47d383",
   "metadata": {},
   "outputs": [
    {
     "data": {
      "text/plain": [
       "'n'"
      ]
     },
     "execution_count": 31,
     "metadata": {},
     "output_type": "execute_result"
    }
   ],
   "source": [
    "a[-1]"
   ]
  },
  {
   "cell_type": "code",
   "execution_count": 25,
   "id": "2d5775bd-56fc-4457-b2ea-17ab1ff263ab",
   "metadata": {},
   "outputs": [
    {
     "data": {
      "text/plain": [
       "'F'"
      ]
     },
     "execution_count": 25,
     "metadata": {},
     "output_type": "execute_result"
    }
   ],
   "source": [
    "a[2]"
   ]
  },
  {
   "cell_type": "code",
   "execution_count": 26,
   "id": "b9613dda-9250-4d50-9ee8-c62402f9e895",
   "metadata": {},
   "outputs": [
    {
     "ename": "TypeError",
     "evalue": "'str' object does not support item assignment",
     "output_type": "error",
     "traceback": [
      "\u001b[1;31m---------------------------------------------------------------------------\u001b[0m",
      "\u001b[1;31mTypeError\u001b[0m                                 Traceback (most recent call last)",
      "Cell \u001b[1;32mIn[26], line 1\u001b[0m\n\u001b[1;32m----> 1\u001b[0m \u001b[43ma\u001b[49m\u001b[43m[\u001b[49m\u001b[38;5;241;43m2\u001b[39;49m\u001b[43m]\u001b[49m\u001b[38;5;241m=\u001b[39m\u001b[38;5;124m\"\u001b[39m\u001b[38;5;124mF\u001b[39m\u001b[38;5;124m\"\u001b[39m\n",
      "\u001b[1;31mTypeError\u001b[0m: 'str' object does not support item assignment"
     ]
    }
   ],
   "source": [
    "a[2]=\"F\""
   ]
  },
  {
   "cell_type": "code",
   "execution_count": 30,
   "id": "d430a3a2-3fb0-4d98-863f-525aafc91637",
   "metadata": {},
   "outputs": [
    {
     "name": "stdout",
     "output_type": "stream",
     "text": [
      "140732728296368\n",
      "1675635326768\n",
      "ABCDEF\n"
     ]
    }
   ],
   "source": [
    "b=\"ABC\"\n",
    "print(id(b))\n",
    "\n",
    "b+=\"DEF\"\n",
    "print(id(b)) #문자열은 불변 새로 추가하면 새로운 문자열 객체가 생성\n",
    "print(b)"
   ]
  },
  {
   "cell_type": "code",
   "execution_count": 54,
   "id": "a7865435-7075-4731-b8ad-509678c79b48",
   "metadata": {},
   "outputs": [
    {
     "data": {
      "text/plain": [
       "'Python'"
      ]
     },
     "execution_count": 54,
     "metadata": {},
     "output_type": "execute_result"
    }
   ],
   "source": [
    "a=\"Pithon\"\n",
    "a[:1]+\"y\"+a[2:]"
   ]
  },
  {
   "cell_type": "code",
   "execution_count": 57,
   "id": "c8496773-aabb-4c86-8aa5-2f12fa7c7042",
   "metadata": {},
   "outputs": [
    {
     "data": {
      "text/plain": [
       "'I eat three apples.'"
      ]
     },
     "execution_count": 57,
     "metadata": {},
     "output_type": "execute_result"
    }
   ],
   "source": [
    "\"I eat %s apples.\" % \"three\""
   ]
  },
  {
   "cell_type": "code",
   "execution_count": 59,
   "id": "26d49948-1114-424a-bb5a-1b09f60b63a0",
   "metadata": {},
   "outputs": [
    {
     "data": {
      "text/plain": [
       "'I eat 3 apples and 5 breads'"
      ]
     },
     "execution_count": 59,
     "metadata": {},
     "output_type": "execute_result"
    }
   ],
   "source": [
    "\"I eat %d apples and %d breads\" % (3,4)"
   ]
  },
  {
   "cell_type": "code",
   "execution_count": 63,
   "id": "e3dc1181-b9ce-41f3-a290-ba1441bf3377",
   "metadata": {},
   "outputs": [
    {
     "data": {
      "text/plain": [
       "'lodding is now 78%'"
      ]
     },
     "execution_count": 63,
     "metadata": {},
     "output_type": "execute_result"
    }
   ],
   "source": [
    "\"lodding is now %d%%\" % 78"
   ]
  },
  {
   "cell_type": "code",
   "execution_count": 65,
   "id": "2f76b291-d603-4324-bb76-ef33c5600093",
   "metadata": {},
   "outputs": [
    {
     "data": {
      "text/plain": [
       "'ABC       DEF'"
      ]
     },
     "execution_count": 65,
     "metadata": {},
     "output_type": "execute_result"
    }
   ],
   "source": [
    "\"ABC%10s\"%\"DEF\""
   ]
  },
  {
   "cell_type": "code",
   "execution_count": 66,
   "id": "14c355e7-b4f4-45b5-8c04-c038a07b79ac",
   "metadata": {},
   "outputs": [
    {
     "data": {
      "text/plain": [
       "'ABC       DEF'"
      ]
     },
     "execution_count": 66,
     "metadata": {},
     "output_type": "execute_result"
    }
   ],
   "source": [
    "\"%-10sDEF\"%\"ABC\""
   ]
  },
  {
   "cell_type": "code",
   "execution_count": 68,
   "id": "53239447-0030-484a-bceb-ddc6ee611045",
   "metadata": {},
   "outputs": [
    {
     "data": {
      "text/plain": [
       "'   12.1235'"
      ]
     },
     "execution_count": 68,
     "metadata": {},
     "output_type": "execute_result"
    }
   ],
   "source": [
    "\"%10.4f\" % 12.12345678"
   ]
  },
  {
   "cell_type": "code",
   "execution_count": 69,
   "id": "5240d7e3-4693-46e0-9e73-faefb41e61ff",
   "metadata": {},
   "outputs": [
    {
     "data": {
      "text/plain": [
       "'12341234.1234'"
      ]
     },
     "execution_count": 69,
     "metadata": {},
     "output_type": "execute_result"
    }
   ],
   "source": [
    "\"%0.4f\" % 12341234.12341234"
   ]
  },
  {
   "cell_type": "code",
   "execution_count": 70,
   "id": "d1742f05-8125-40f7-93cc-929f85cda155",
   "metadata": {},
   "outputs": [
    {
     "data": {
      "text/plain": [
       "'12341234.1234'"
      ]
     },
     "execution_count": 70,
     "metadata": {},
     "output_type": "execute_result"
    }
   ],
   "source": [
    "\"%.4f\" % 12341234.12341234"
   ]
  },
  {
   "cell_type": "code",
   "execution_count": 76,
   "id": "f048ef62-79d3-4462-a2b5-230982e3c8b0",
   "metadata": {},
   "outputs": [
    {
     "data": {
      "text/plain": [
       "'I eat 3,5 apples and five breads.'"
      ]
     },
     "execution_count": 76,
     "metadata": {},
     "output_type": "execute_result"
    }
   ],
   "source": [
    "#\"I eat {0} apple.\".format(3)\n",
    "#\"I eat {0} apple.\".format(\"three\")\n",
    "#\"I eat {0} apples and {1} breads.\".format(3, 5)\n",
    "#\"I eat {num1} apples and {num2} breads.\".format(num1=3, num2=5)\n",
    "\"I eat {0},{1} apples and {num1} breads.\".format(3,5,num1=\"five\")"
   ]
  },
  {
   "cell_type": "code",
   "execution_count": 77,
   "id": "fd11c79c-694a-4cb9-bf7c-75e5a7e1f261",
   "metadata": {},
   "outputs": [
    {
     "data": {
      "text/plain": [
       "'안녕        '"
      ]
     },
     "execution_count": 77,
     "metadata": {},
     "output_type": "execute_result"
    }
   ],
   "source": [
    "\"{0:<10}\".format(\"안녕\")"
   ]
  },
  {
   "cell_type": "code",
   "execution_count": 77,
   "id": "01e12816-9e96-4dab-97a8-5b11ae2db1c5",
   "metadata": {},
   "outputs": [
    {
     "data": {
      "text/plain": [
       "'안녕        '"
      ]
     },
     "execution_count": 77,
     "metadata": {},
     "output_type": "execute_result"
    }
   ],
   "source": [
    "\"{0:>10}\".format(\"안녕\")"
   ]
  },
  {
   "cell_type": "code",
   "execution_count": 78,
   "id": "1466cab9-1b65-4a07-aff8-0a602df519c2",
   "metadata": {},
   "outputs": [
    {
     "data": {
      "text/plain": [
       "'    안녕    '"
      ]
     },
     "execution_count": 78,
     "metadata": {},
     "output_type": "execute_result"
    }
   ],
   "source": [
    "\"{0:^10}\".format(\"안녕\")"
   ]
  },
  {
   "cell_type": "code",
   "execution_count": 79,
   "id": "da54ee24-5d8b-49a7-927f-7815c076f765",
   "metadata": {},
   "outputs": [
    {
     "data": {
      "text/plain": [
       "'****안녕****'"
      ]
     },
     "execution_count": 79,
     "metadata": {},
     "output_type": "execute_result"
    }
   ],
   "source": [
    "\"{0:*^10}\".format(\"안녕\")"
   ]
  },
  {
   "cell_type": "code",
   "execution_count": 81,
   "id": "f423356f-ea86-4d77-b8d2-f56957d601ce",
   "metadata": {},
   "outputs": [
    {
     "data": {
      "text/plain": [
       "'{0:0.3ㄹ}'"
      ]
     },
     "execution_count": 81,
     "metadata": {},
     "output_type": "execute_result"
    }
   ],
   "source": [
    "\"{0:0.3f}\".format(1000.555555555555)"
   ]
  },
  {
   "cell_type": "code",
   "execution_count": 83,
   "id": "c85c7e1a-d9d8-47ec-a0d2-3184b136cecf",
   "metadata": {},
   "outputs": [
    {
     "data": {
      "text/plain": [
       "'{number1}->100'"
      ]
     },
     "execution_count": 83,
     "metadata": {},
     "output_type": "execute_result"
    }
   ],
   "source": [
    "\"{{number1}}->{0}\".format(100)"
   ]
  },
  {
   "cell_type": "code",
   "execution_count": 85,
   "id": "73bd1b83-845f-47c8-9730-834f1225f7c3",
   "metadata": {},
   "outputs": [
    {
     "data": {
      "text/plain": [
       "'num1=10, num2=20, result=30'"
      ]
     },
     "execution_count": 85,
     "metadata": {},
     "output_type": "execute_result"
    }
   ],
   "source": [
    "num1=10\n",
    "num2=20\n",
    "f\"num1={num1}, num2={num2}, result={num1+num2}\" #파이썬 3.6버전 부터 도입된 문법"
   ]
  },
  {
   "cell_type": "code",
   "execution_count": 88,
   "id": "1726e981-2bf4-4321-ba8a-6bae979d99e5",
   "metadata": {},
   "outputs": [
    {
     "data": {
      "text/plain": [
       "'****안녕****'"
      ]
     },
     "execution_count": 88,
     "metadata": {},
     "output_type": "execute_result"
    }
   ],
   "source": [
    "#f\"{'안녕':<10}\"\n",
    "#f\"{'안녕':>10}\"\n",
    "#f\"{'안녕':^10}\"\n",
    "f\"{'안녕':*^10}\""
   ]
  }
 ],
 "metadata": {
  "kernelspec": {
   "display_name": "Python 3 (ipykernel)",
   "language": "python",
   "name": "python3"
  },
  "language_info": {
   "codemirror_mode": {
    "name": "ipython",
    "version": 3
   },
   "file_extension": ".py",
   "mimetype": "text/x-python",
   "name": "python",
   "nbconvert_exporter": "python",
   "pygments_lexer": "ipython3",
   "version": "3.12.7"
  }
 },
 "nbformat": 4,
 "nbformat_minor": 5
}
