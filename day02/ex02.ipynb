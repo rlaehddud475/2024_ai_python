{
 "cells": [
  {
   "cell_type": "code",
   "execution_count": 9,
   "id": "c0457f75-6a47-4538-991a-57b71c8e5ce7",
   "metadata": {},
   "outputs": [],
   "source": [
    "#a=(1,2,3)\n",
    "#a=(1)\n",
    "a=(1,)"
   ]
  },
  {
   "cell_type": "code",
   "execution_count": 4,
   "id": "8dce257f-4f6d-4faa-9e64-4af5d96cda5f",
   "metadata": {},
   "outputs": [
    {
     "ename": "TypeError",
     "evalue": "'tuple' object doesn't support item deletion",
     "output_type": "error",
     "traceback": [
      "\u001b[1;31m---------------------------------------------------------------------------\u001b[0m",
      "\u001b[1;31mTypeError\u001b[0m                                 Traceback (most recent call last)",
      "Cell \u001b[1;32mIn[4], line 3\u001b[0m\n\u001b[0;32m      1\u001b[0m \u001b[38;5;66;03m#a[1]\u001b[39;00m\n\u001b[0;32m      2\u001b[0m \u001b[38;5;66;03m#a[1]='A' 변경 불가 리스트이므로 수정시 예외 발생\u001b[39;00m\n\u001b[1;32m----> 3\u001b[0m \u001b[38;5;28;01mdel\u001b[39;00m \u001b[43ma\u001b[49m\u001b[43m[\u001b[49m\u001b[38;5;241;43m1\u001b[39;49m\u001b[43m]\u001b[49m\n",
      "\u001b[1;31mTypeError\u001b[0m: 'tuple' object doesn't support item deletion"
     ]
    }
   ],
   "source": [
    "#a[1]\n",
    "#a[1]='A' 변경 불가 리스트이므로 수정시 예외 발생\n",
    "#del a[1]"
   ]
  },
  {
   "cell_type": "code",
   "execution_count": 11,
   "id": "cbbb493f-2550-4a79-82ec-b4d0ade88906",
   "metadata": {},
   "outputs": [
    {
     "data": {
      "text/plain": [
       "(1,)"
      ]
     },
     "execution_count": 11,
     "metadata": {},
     "output_type": "execute_result"
    }
   ],
   "source": [
    "a"
   ]
  },
  {
   "cell_type": "code",
   "execution_count": 12,
   "id": "49e155b5-9919-40cb-a9c6-aaafdf63e6ea",
   "metadata": {},
   "outputs": [
    {
     "data": {
      "text/plain": [
       "tuple"
      ]
     },
     "execution_count": 12,
     "metadata": {},
     "output_type": "execute_result"
    }
   ],
   "source": [
    "#type((1))\n",
    "type((1,))"
   ]
  },
  {
   "cell_type": "code",
   "execution_count": 13,
   "id": "b8fbf94f-feee-4cf2-83d2-2e2159576f6f",
   "metadata": {},
   "outputs": [],
   "source": [
    "a=1,2,3,4,5"
   ]
  },
  {
   "cell_type": "code",
   "execution_count": 14,
   "id": "5591f1aa-6b1f-451e-af57-7ef0c73d2e47",
   "metadata": {},
   "outputs": [
    {
     "data": {
      "text/plain": [
       "tuple"
      ]
     },
     "execution_count": 14,
     "metadata": {},
     "output_type": "execute_result"
    }
   ],
   "source": [
    "type(a)"
   ]
  },
  {
   "cell_type": "code",
   "execution_count": null,
   "id": "443d668e-136a-4f2e-8938-d6d1a11fcc57",
   "metadata": {},
   "outputs": [],
   "source": []
  }
 ],
 "metadata": {
  "kernelspec": {
   "display_name": "Python 3 (ipykernel)",
   "language": "python",
   "name": "python3"
  },
  "language_info": {
   "codemirror_mode": {
    "name": "ipython",
    "version": 3
   },
   "file_extension": ".py",
   "mimetype": "text/x-python",
   "name": "python",
   "nbconvert_exporter": "python",
   "pygments_lexer": "ipython3",
   "version": "3.12.7"
  }
 },
 "nbformat": 4,
 "nbformat_minor": 5
}
