{
 "cells": [
  {
   "cell_type": "code",
   "execution_count": 1,
   "id": "9ee27b15-8bab-4b26-ae55-2059e8b0faeb",
   "metadata": {},
   "outputs": [],
   "source": [
    "person={'name':'이이름','age':40}"
   ]
  },
  {
   "cell_type": "code",
   "execution_count": 10,
   "id": "5d1307ad-8956-42bc-a8bf-68eb186cf7fa",
   "metadata": {},
   "outputs": [
    {
     "data": {
      "text/plain": [
       "{'name': '(수정)이이름', 'age': 40}"
      ]
     },
     "execution_count": 10,
     "metadata": {},
     "output_type": "execute_result"
    }
   ],
   "source": [
    "#person['name']='(수정)이이름'\n",
    "#person['address']='주소'\n",
    "del person['address']\n",
    "person"
   ]
  },
  {
   "cell_type": "code",
   "execution_count": 2,
   "id": "acbe05c0-3564-4ee6-999d-a0eee79976b7",
   "metadata": {},
   "outputs": [
    {
     "data": {
      "text/plain": [
       "{'name': '이이름', 'age': 40}"
      ]
     },
     "execution_count": 2,
     "metadata": {},
     "output_type": "execute_result"
    }
   ],
   "source": [
    "person"
   ]
  },
  {
   "cell_type": "code",
   "execution_count": 3,
   "id": "1792d0e1-2d4c-4d5b-8ec6-e3a31a7c7806",
   "metadata": {},
   "outputs": [
    {
     "data": {
      "text/plain": [
       "dict"
      ]
     },
     "execution_count": 3,
     "metadata": {},
     "output_type": "execute_result"
    }
   ],
   "source": [
    "type(person)"
   ]
  },
  {
   "cell_type": "code",
   "execution_count": 12,
   "id": "74c6c042-80bb-43f9-8812-a1162afc5f78",
   "metadata": {},
   "outputs": [
    {
     "data": {
      "text/plain": [
       "40"
      ]
     },
     "execution_count": 12,
     "metadata": {},
     "output_type": "execute_result"
    }
   ],
   "source": [
    "person['age']"
   ]
  },
  {
   "cell_type": "code",
   "execution_count": 13,
   "id": "be3e3229-eb31-48d6-bb7c-780cf5490cb1",
   "metadata": {},
   "outputs": [],
   "source": [
    "person={'name':'이이름','age':40}"
   ]
  },
  {
   "cell_type": "code",
   "execution_count": 14,
   "id": "7d250153-8e68-4bed-b66c-28b9e0741b9d",
   "metadata": {},
   "outputs": [
    {
     "name": "stdout",
     "output_type": "stream",
     "text": [
      "dict_keys(['name', 'age']) dict_values(['이이름', 40])\n"
     ]
    }
   ],
   "source": [
    "keys=person.keys()\n",
    "values=person.values()\n",
    "print(keys,values)"
   ]
  },
  {
   "cell_type": "code",
   "execution_count": 15,
   "id": "c02ba15a-f8c3-4e3d-af96-cab2b23c9f5b",
   "metadata": {},
   "outputs": [
    {
     "name": "stdout",
     "output_type": "stream",
     "text": [
      "['이이름', 40]\n"
     ]
    }
   ],
   "source": [
    "values2=list(values)\n",
    "print(values2)"
   ]
  },
  {
   "cell_type": "code",
   "execution_count": 16,
   "id": "b54462e8-ca1c-4612-bf80-599cf94516d3",
   "metadata": {},
   "outputs": [
    {
     "name": "stdout",
     "output_type": "stream",
     "text": [
      "dict_items([('name', '이이름'), ('age', 40)])\n"
     ]
    }
   ],
   "source": [
    "items=person.items()\n",
    "print(items)"
   ]
  }
 ],
 "metadata": {
  "kernelspec": {
   "display_name": "Python 3 (ipykernel)",
   "language": "python",
   "name": "python3"
  },
  "language_info": {
   "codemirror_mode": {
    "name": "ipython",
    "version": 3
   },
   "file_extension": ".py",
   "mimetype": "text/x-python",
   "name": "python",
   "nbconvert_exporter": "python",
   "pygments_lexer": "ipython3",
   "version": "3.12.7"
  }
 },
 "nbformat": 4,
 "nbformat_minor": 5
}
