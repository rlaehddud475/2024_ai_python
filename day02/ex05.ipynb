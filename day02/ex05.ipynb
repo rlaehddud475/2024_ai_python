{
 "cells": [
  {
   "cell_type": "code",
   "execution_count": 6,
   "id": "393c8301-656a-482a-be70-dc9b0128f2fa",
   "metadata": {},
   "outputs": [],
   "source": [
    "a=\"\"\n",
    "b=\"1\"\n",
    "c=\"\""
   ]
  },
  {
   "cell_type": "code",
   "execution_count": 5,
   "id": "0975f463-bda4-49b0-b62a-30c5e5dab608",
   "metadata": {},
   "outputs": [
    {
     "name": "stdout",
     "output_type": "stream",
     "text": [
      "참\n"
     ]
    }
   ],
   "source": [
    "if [c]:\n",
    "    print(\"참\")\n",
    "else:\n",
    "    print(\"거짓\")"
   ]
  },
  {
   "cell_type": "code",
   "execution_count": 1,
   "id": "2ae42be9-12f6-4063-bd63-3b2b59426e0b",
   "metadata": {},
   "outputs": [
    {
     "name": "stdout",
     "output_type": "stream",
     "text": [
      "False\n",
      "True\n",
      "False\n",
      "False\n",
      "False\n"
     ]
    }
   ],
   "source": [
    "print(bool(\"\"))\n",
    "print(bool(\"1\"))\n",
    "print(bool([]))\n",
    "print(bool(()))\n",
    "print(bool(None))"
   ]
  }
 ],
 "metadata": {
  "kernelspec": {
   "display_name": "Python 3 (ipykernel)",
   "language": "python",
   "name": "python3"
  },
  "language_info": {
   "codemirror_mode": {
    "name": "ipython",
    "version": 3
   },
   "file_extension": ".py",
   "mimetype": "text/x-python",
   "name": "python",
   "nbconvert_exporter": "python",
   "pygments_lexer": "ipython3",
   "version": "3.12.7"
  }
 },
 "nbformat": 4,
 "nbformat_minor": 5
}
