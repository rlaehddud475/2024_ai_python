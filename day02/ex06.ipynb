{
 "cells": [
  {
   "cell_type": "code",
   "execution_count": 3,
   "id": "fce72865-412e-4889-9e84-495558cafe22",
   "metadata": {},
   "outputs": [],
   "source": [
    "a=10 #자바의 리터럴 상수와비숫, 재료가 되는 수는 1개의 주소를 가지고 공유\n",
    "b=10"
   ]
  },
  {
   "cell_type": "code",
   "execution_count": 4,
   "id": "1f0f543c-4548-46d7-9d5d-7d5b54173850",
   "metadata": {},
   "outputs": [
    {
     "name": "stdout",
     "output_type": "stream",
     "text": [
      "140728473823960 140728473823960\n"
     ]
    }
   ],
   "source": [
    "print(id(a), id(b))"
   ]
  },
  {
   "cell_type": "code",
   "execution_count": 5,
   "id": "d8b1d4f9-8f4a-4c23-ad24-a809b333fb8a",
   "metadata": {},
   "outputs": [],
   "source": [
    "a=[1,2,3,4,5]"
   ]
  },
  {
   "cell_type": "code",
   "execution_count": 6,
   "id": "99f6f50a-ebae-4a1e-b81d-6681066aaa8a",
   "metadata": {},
   "outputs": [],
   "source": [
    "b=a"
   ]
  },
  {
   "cell_type": "code",
   "execution_count": 10,
   "id": "97024798-7fbc-46fc-8ce5-c28126e2e96b",
   "metadata": {},
   "outputs": [
    {
     "name": "stdout",
     "output_type": "stream",
     "text": [
      "[1, '둘', 3, 4, 5]\n"
     ]
    }
   ],
   "source": [
    "b[1]='둘'\n",
    "print(b)"
   ]
  },
  {
   "cell_type": "code",
   "execution_count": 11,
   "id": "db74d730-f5d3-48e5-9011-414beba3014a",
   "metadata": {},
   "outputs": [
    {
     "name": "stdout",
     "output_type": "stream",
     "text": [
      "[1, '둘', 3, 4, 5]\n"
     ]
    }
   ],
   "source": [
    "print(a)"
   ]
  },
  {
   "cell_type": "code",
   "execution_count": 12,
   "id": "262e0944-66d8-4e46-a686-a818fbad576a",
   "metadata": {},
   "outputs": [
    {
     "data": {
      "text/plain": [
       "True"
      ]
     },
     "execution_count": 12,
     "metadata": {},
     "output_type": "execute_result"
    }
   ],
   "source": [
    "a is b"
   ]
  },
  {
   "cell_type": "code",
   "execution_count": 13,
   "id": "5cf7f206-1f85-4e40-b562-d7dd3f0b8dfc",
   "metadata": {},
   "outputs": [],
   "source": [
    "a=[1,2,3,4,5]"
   ]
  },
  {
   "cell_type": "code",
   "execution_count": 14,
   "id": "938a921e-3fdf-4fb2-987e-2031824bac64",
   "metadata": {},
   "outputs": [],
   "source": [
    "b=a[:]"
   ]
  },
  {
   "cell_type": "code",
   "execution_count": 15,
   "id": "c02fee7e-26cc-4c7a-84e7-b40e0ee0f89f",
   "metadata": {},
   "outputs": [],
   "source": [
    "b[1]='둘'"
   ]
  },
  {
   "cell_type": "code",
   "execution_count": 16,
   "id": "7c507580-7878-4be0-a804-14c58100887f",
   "metadata": {},
   "outputs": [
    {
     "name": "stdout",
     "output_type": "stream",
     "text": [
      "[1, 2, 3, 4, 5] [1, '둘', 3, 4, 5] 2781432995008 2781438896064\n"
     ]
    }
   ],
   "source": [
    "print(a,b,id(a),id(b))"
   ]
  },
  {
   "cell_type": "code",
   "execution_count": 17,
   "id": "5fe31b97-3730-40af-bae6-5c30972e8c1a",
   "metadata": {},
   "outputs": [],
   "source": [
    "c=a.copy()"
   ]
  },
  {
   "cell_type": "code",
   "execution_count": 18,
   "id": "648b7f18-ea02-4d40-91fc-c614e4f96e51",
   "metadata": {},
   "outputs": [],
   "source": [
    "c[2]='셋'"
   ]
  },
  {
   "cell_type": "code",
   "execution_count": 19,
   "id": "6b70827b-ba58-4b1f-957d-6c6fc9ac7b67",
   "metadata": {},
   "outputs": [
    {
     "name": "stdout",
     "output_type": "stream",
     "text": [
      "[1, 2, 3, 4, 5] [1, 2, '셋', 4, 5] 2781432995008 2781432673536\n"
     ]
    }
   ],
   "source": [
    "print(a,c,id(a),id(c))"
   ]
  },
  {
   "cell_type": "code",
   "execution_count": 20,
   "id": "fba14b9c-96be-478a-85cb-f38dcd5f628d",
   "metadata": {},
   "outputs": [],
   "source": [
    "[a,b]=['사과','오렌지']"
   ]
  },
  {
   "cell_type": "code",
   "execution_count": 21,
   "id": "ac99e276-16ee-42de-ba85-6513fdf2c010",
   "metadata": {},
   "outputs": [
    {
     "name": "stdout",
     "output_type": "stream",
     "text": [
      "사과 오렌지\n"
     ]
    }
   ],
   "source": [
    "print(a,b)"
   ]
  },
  {
   "cell_type": "code",
   "execution_count": 22,
   "id": "cfe69e27-bf90-46d0-bfd7-37628fd01546",
   "metadata": {},
   "outputs": [],
   "source": [
    "a=['Life','is','too','short']"
   ]
  },
  {
   "cell_type": "code",
   "execution_count": 23,
   "id": "5707f621-75bc-41a3-b9a6-a7e0aaf24814",
   "metadata": {},
   "outputs": [
    {
     "name": "stdout",
     "output_type": "stream",
     "text": [
      "Life is too short\n"
     ]
    }
   ],
   "source": [
    "print(a[0],a[1],a[2],a[3])"
   ]
  },
  {
   "cell_type": "code",
   "execution_count": 32,
   "id": "93d1b2af-0ccf-4b4b-917c-4278dd362b3c",
   "metadata": {},
   "outputs": [
    {
     "name": "stdout",
     "output_type": "stream",
     "text": [
      "Lifeistooshort\n",
      "Lifeistooshort\n",
      "Lifeistooshort\n",
      "Lifeistooshort\n"
     ]
    }
   ],
   "source": [
    "for i in a :\n",
    "      print(a[0]+a[1]+a[2]+a[3])\n",
    "      "
   ]
  }
 ],
 "metadata": {
  "kernelspec": {
   "display_name": "Python 3 (ipykernel)",
   "language": "python",
   "name": "python3"
  },
  "language_info": {
   "codemirror_mode": {
    "name": "ipython",
    "version": 3
   },
   "file_extension": ".py",
   "mimetype": "text/x-python",
   "name": "python",
   "nbconvert_exporter": "python",
   "pygments_lexer": "ipython3",
   "version": "3.12.7"
  }
 },
 "nbformat": 4,
 "nbformat_minor": 5
}
