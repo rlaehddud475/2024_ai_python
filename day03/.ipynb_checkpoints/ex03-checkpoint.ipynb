{
 "cells": [
  {
   "cell_type": "code",
   "execution_count": 3,
   "id": "14dfcf1b-aa9e-4f22-97b1-9038e427d663",
   "metadata": {},
   "outputs": [
    {
     "name": "stdout",
     "output_type": "stream",
     "text": [
      "사과 apple\n",
      "오렌지 orange\n",
      "멜론 melon\n",
      "망고 mango\n"
     ]
    }
   ],
   "source": [
    "fruits=[('사과','apple'),('오렌지','orange'),('멜론','melon'),('망고','mango')]\n",
    "for title,item in fruits:\n",
    "    print(title,item)"
   ]
  },
  {
   "cell_type": "code",
   "execution_count": 2,
   "id": "0ab56f86-b338-476c-8793-d93408d36861",
   "metadata": {},
   "outputs": [
    {
     "name": "stdout",
     "output_type": "stream",
     "text": [
      "A\n",
      "B\n",
      "C\n"
     ]
    }
   ],
   "source": [
    "for item in \"ABC\":\n",
    "    print(item)"
   ]
  },
  {
   "cell_type": "code",
   "execution_count": 7,
   "id": "1eefc3de-790f-4823-a797-81d7735ca71c",
   "metadata": {},
   "outputs": [
    {
     "name": "stdout",
     "output_type": "stream",
     "text": [
      "1 반복\n",
      "3 반복\n",
      "5 반복\n",
      "7 반복\n",
      "9 반복\n"
     ]
    }
   ],
   "source": [
    "#for i in range(10):\n",
    "  #  print(i)\n",
    "#for i in range(1,11):\n",
    "    #print(i,\"반복\")\n",
    "\n",
    "for i in range(1,11,2):\n",
    "    print(i,\"반복\")"
   ]
  },
  {
   "cell_type": "code",
   "execution_count": null,
   "id": "c69990a6-7df8-4e05-90fe-a777c1253392",
   "metadata": {},
   "outputs": [],
   "source": [
    "for i in range(2,10):\n",
    "    print(\"------%d단---------\"%i)\n",
    "    for j in range(1,10):\n",
    "        "
   ]
  }
 ],
 "metadata": {
  "kernelspec": {
   "display_name": "Python 3 (ipykernel)",
   "language": "python",
   "name": "python3"
  },
  "language_info": {
   "codemirror_mode": {
    "name": "ipython",
    "version": 3
   },
   "file_extension": ".py",
   "mimetype": "text/x-python",
   "name": "python",
   "nbconvert_exporter": "python",
   "pygments_lexer": "ipython3",
   "version": "3.12.7"
  }
 },
 "nbformat": 4,
 "nbformat_minor": 5
}
