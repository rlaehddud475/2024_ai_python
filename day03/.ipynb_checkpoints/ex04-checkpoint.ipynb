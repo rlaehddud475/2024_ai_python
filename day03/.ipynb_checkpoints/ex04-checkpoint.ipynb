{
 "cells": [
  {
   "cell_type": "code",
   "execution_count": 1,
   "id": "43ff663a-36b0-4cf0-834c-9adc77c6573b",
   "metadata": {},
   "outputs": [],
   "source": [
    "def add(a,b):\n",
    "    return a+b"
   ]
  },
  {
   "cell_type": "code",
   "execution_count": 2,
   "id": "819d1f92-1152-4250-a955-7fc2d5e0a0fc",
   "metadata": {},
   "outputs": [
    {
     "data": {
      "text/plain": [
       "30"
      ]
     },
     "execution_count": 2,
     "metadata": {},
     "output_type": "execute_result"
    }
   ],
   "source": [
    "add(10, 20)"
   ]
  },
  {
   "cell_type": "code",
   "execution_count": null,
   "id": "e7f34cb1-3c7b-43cc-a10a-9cc36776cff3",
   "metadata": {},
   "outputs": [],
   "source": [
    "def sub(a,b):\n",
    "    pass"
   ]
  },
  {
   "cell_type": "code",
   "execution_count": 3,
   "id": "6ed402d9-32f8-401b-a97a-a0f37fcdc8ec",
   "metadata": {},
   "outputs": [],
   "source": [
    "def cal(a,b):\n",
    "    return a+b,a-b,a*b,a/b"
   ]
  },
  {
   "cell_type": "code",
   "execution_count": 4,
   "id": "972ed18f-3157-424d-9e40-e73a85159c2f",
   "metadata": {},
   "outputs": [
    {
     "name": "stdout",
     "output_type": "stream",
     "text": [
      "(15, 5, 50, 2.0)\n"
     ]
    },
    {
     "data": {
      "text/plain": [
       "tuple"
      ]
     },
     "execution_count": 4,
     "metadata": {},
     "output_type": "execute_result"
    }
   ],
   "source": [
    "result = cal(10,5)\n",
    "print(result)\n",
    "type(result)"
   ]
  },
  {
   "cell_type": "code",
   "execution_count": 5,
   "id": "a3bfeae4-d6ce-4458-9643-6dd70b4e1e1e",
   "metadata": {},
   "outputs": [
    {
     "name": "stdout",
     "output_type": "stream",
     "text": [
      "15 5 50 2.0\n"
     ]
    }
   ],
   "source": [
    "r1,r2,r3,r4= cal(10,5)\n",
    "print(r1,r2,r3,r4)"
   ]
  },
  {
   "cell_type": "code",
   "execution_count": 13,
   "id": "8f354a2b-20b7-4cbb-93d6-abb77d11c30c",
   "metadata": {},
   "outputs": [],
   "source": [
    "def sum(num, *params):\n",
    "    print(\"num\", num,\"params\",params)\n",
    "    total=0\n",
    "    for i in params:\n",
    "        total+=i\n",
    "    return total"
   ]
  },
  {
   "cell_type": "code",
   "execution_count": 14,
   "id": "c6b7736d-14dc-4499-a242-dbecbf6d32e6",
   "metadata": {},
   "outputs": [
    {
     "name": "stdout",
     "output_type": "stream",
     "text": [
      "num 10 params (20, 30, 40)\n"
     ]
    },
    {
     "data": {
      "text/plain": [
       "90"
      ]
     },
     "execution_count": 14,
     "metadata": {},
     "output_type": "execute_result"
    }
   ],
   "source": [
    "sum(10,20,30,40)"
   ]
  },
  {
   "cell_type": "code",
   "execution_count": 15,
   "id": "1655a04f-adc3-4e20-86e4-f3fb30217c7d",
   "metadata": {},
   "outputs": [],
   "source": [
    "def add(a,b):\n",
    "    return a+b"
   ]
  },
  {
   "cell_type": "code",
   "execution_count": 16,
   "id": "fac76b52-680c-4837-99a5-c42f92a01422",
   "metadata": {},
   "outputs": [
    {
     "data": {
      "text/plain": [
       "30"
      ]
     },
     "execution_count": 16,
     "metadata": {},
     "output_type": "execute_result"
    }
   ],
   "source": [
    "add(10,20)"
   ]
  },
  {
   "cell_type": "code",
   "execution_count": 17,
   "id": "20167857-5b6d-47c9-b9b3-2c8aeb7adf2c",
   "metadata": {},
   "outputs": [
    {
     "data": {
      "text/plain": [
       "30"
      ]
     },
     "execution_count": 17,
     "metadata": {},
     "output_type": "execute_result"
    }
   ],
   "source": [
    "add(b=20,a=10)"
   ]
  },
  {
   "cell_type": "code",
   "execution_count": 18,
   "id": "14f0737d-469b-40bd-a955-b140ca409b01",
   "metadata": {},
   "outputs": [],
   "source": [
    "def words(**params):\n",
    "    print(params)"
   ]
  },
  {
   "cell_type": "code",
   "execution_count": 19,
   "id": "779efd1e-66bd-4e39-a483-8a2a363cff48",
   "metadata": {},
   "outputs": [
    {
     "name": "stdout",
     "output_type": "stream",
     "text": [
      "{'name': '이이름', 'age': '40', 'address': '주소'}\n"
     ]
    }
   ],
   "source": [
    "words(name=\"이이름\",age=\"40\", address=\"주소\")"
   ]
  },
  {
   "cell_type": "code",
   "execution_count": 21,
   "id": "8d959976-0400-4383-b9d7-4d3f1ce289e1",
   "metadata": {},
   "outputs": [],
   "source": [
    "def get_number(num):\n",
    "    if num%10==0:\n",
    "        print(\"종료\")\n",
    "        return\n",
    "\n",
    "    print(num)"
   ]
  },
  {
   "cell_type": "code",
   "execution_count": 22,
   "id": "147c9347-09fe-487e-85dc-ec744dba7673",
   "metadata": {},
   "outputs": [
    {
     "name": "stdout",
     "output_type": "stream",
     "text": [
      "11\n"
     ]
    }
   ],
   "source": [
    "get_number(11)"
   ]
  },
  {
   "cell_type": "code",
   "execution_count": 25,
   "id": "975f69f8-656d-453b-9f39-ae512aca1f0a",
   "metadata": {},
   "outputs": [],
   "source": [
    "def sum(a,b,c=100):\n",
    "    return a+b+c"
   ]
  },
  {
   "cell_type": "code",
   "execution_count": null,
   "id": "649c27b3-59da-475e-a857-47a330a6fd98",
   "metadata": {},
   "outputs": [],
   "source": [
    "sun(10,20)"
   ]
  },
  {
   "cell_type": "code",
   "execution_count": 26,
   "id": "76c15749-d15c-4f27-affa-902633359a8e",
   "metadata": {},
   "outputs": [
    {
     "ename": "SyntaxError",
     "evalue": "parameter without a default follows parameter with a default (495241214.py, line 1)",
     "output_type": "error",
     "traceback": [
      "\u001b[1;36m  Cell \u001b[1;32mIn[26], line 1\u001b[1;36m\u001b[0m\n\u001b[1;33m    def sum2(a,b=100,c):\u001b[0m\n\u001b[1;37m                     ^\u001b[0m\n\u001b[1;31mSyntaxError\u001b[0m\u001b[1;31m:\u001b[0m parameter without a default follows parameter with a default\n"
     ]
    }
   ],
   "source": [
    "def sum2(a,b=100,c):\n",
    "    return a+b+c"
   ]
  },
  {
   "cell_type": "code",
   "execution_count": 31,
   "id": "85610021-a5e4-4122-9513-f889b44a47fa",
   "metadata": {},
   "outputs": [],
   "source": [
    "name=\"이이름\"\n",
    "def message(msg):\n",
    "    global name\n",
    "    print(f\"{name}님 {msg}\")"
   ]
  },
  {
   "cell_type": "code",
   "execution_count": 32,
   "id": "1c53c48c-322d-4418-a0e3-8da384d7b602",
   "metadata": {},
   "outputs": [
    {
     "name": "stdout",
     "output_type": "stream",
     "text": [
      "이이름님 안녕하세요\n"
     ]
    }
   ],
   "source": [
    "message(\"안녕하세요\")"
   ]
  },
  {
   "cell_type": "code",
   "execution_count": 35,
   "id": "6663468d-eed0-4567-a0c2-645e5a6be7a9",
   "metadata": {},
   "outputs": [
    {
     "name": "stdout",
     "output_type": "stream",
     "text": [
      "[2, 4, 6, 8, 10]\n"
     ]
    }
   ],
   "source": [
    "nums=[1,2,3,4,5,6,7,8,9,10]\n",
    "\n",
    "def is_even(num):\n",
    "    return num%2==0\n",
    "\n",
    "even=filter(is_even,nums)\n",
    "even_nums=list(even)\n",
    "print(even_nums)"
   ]
  },
  {
   "cell_type": "code",
   "execution_count": 41,
   "id": "2322bd4f-10e8-4118-acee-63a766302195",
   "metadata": {},
   "outputs": [
    {
     "name": "stdout",
     "output_type": "stream",
     "text": [
      "[2, 4, 6, 8, 10]\n"
     ]
    }
   ],
   "source": [
    "nums=[1,2,3,4,5,6,7,8,9,10]\n",
    "\n",
    "is_even=lambda x:x%2==0\n",
    "\n",
    "\n",
    "even=list(filter(is_even,nums))\n",
    "print(even)"
   ]
  },
  {
   "cell_type": "code",
   "execution_count": 41,
   "id": "dfa25b59-4ac7-47b2-adfb-ad5f32135652",
   "metadata": {},
   "outputs": [
    {
     "name": "stdout",
     "output_type": "stream",
     "text": [
      "[2, 4, 6, 8, 10]\n"
     ]
    }
   ],
   "source": [
    "nums=[1,2,3,4,5,6,7,8,9,10]\n",
    "\n",
    "\n",
    "\n",
    "even=list(filter(lambda x:x%2==0,nums))\n",
    "print(even)"
   ]
  }
 ],
 "metadata": {
  "kernelspec": {
   "display_name": "Python 3 (ipykernel)",
   "language": "python",
   "name": "python3"
  },
  "language_info": {
   "codemirror_mode": {
    "name": "ipython",
    "version": 3
   },
   "file_extension": ".py",
   "mimetype": "text/x-python",
   "name": "python",
   "nbconvert_exporter": "python",
   "pygments_lexer": "ipython3",
   "version": "3.12.7"
  }
 },
 "nbformat": 4,
 "nbformat_minor": 5
}
