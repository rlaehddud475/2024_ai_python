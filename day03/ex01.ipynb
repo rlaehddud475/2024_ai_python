{
 "cells": [
  {
   "cell_type": "code",
   "execution_count": 2,
   "id": "f8463766-5d48-47ce-8122-20767270fff4",
   "metadata": {},
   "outputs": [
    {
     "name": "stdout",
     "output_type": "stream",
     "text": [
      "중학생\n"
     ]
    }
   ],
   "source": [
    "age=16\n",
    "if age<8:\n",
    "    print(\"유치원\")\n",
    "elif age<14 :\n",
    "    print(\"초등학생\")\n",
    "elif age<17 :\n",
    "    print(\"중학생\")\n",
    "elif age<20 :\n",
    "    print(\"고등학생\")\n",
    "else :\n",
    "    print(\"성인\")"
   ]
  },
  {
   "cell_type": "code",
   "execution_count": 5,
   "id": "e60cf941-f0b8-4e52-8509-b01a121ab6ae",
   "metadata": {},
   "outputs": [
    {
     "name": "stdout",
     "output_type": "stream",
     "text": [
      "망고가 없습니다.\n"
     ]
    }
   ],
   "source": [
    "fruits=['사과','오렌지','멜론']\n",
    "if '망고' not in fruits:\n",
    "    print(\"망고가 없습니다.\")\n",
    "else:\n",
    "    print(\"망고가 있습니다.\")"
   ]
  },
  {
   "cell_type": "code",
   "execution_count": null,
   "id": "5795764a-821e-4d2e-9c8e-f2159ad32c10",
   "metadata": {},
   "outputs": [],
   "source": [
    "if num>5 and num<20:pass"
   ]
  },
  {
   "cell_type": "code",
   "execution_count": 7,
   "id": "488fd421-a3b0-4e6c-833f-adbd9f929745",
   "metadata": {},
   "outputs": [
    {
     "name": "stdout",
     "output_type": "stream",
     "text": [
      "불합격\n"
     ]
    }
   ],
   "source": [
    "score=50\n",
    "result=\"합격\" if score>=60 else \"불합격\"\n",
    "print(result)"
   ]
  }
 ],
 "metadata": {
  "kernelspec": {
   "display_name": "Python 3 (ipykernel)",
   "language": "python",
   "name": "python3"
  },
  "language_info": {
   "codemirror_mode": {
    "name": "ipython",
    "version": 3
   },
   "file_extension": ".py",
   "mimetype": "text/x-python",
   "name": "python",
   "nbconvert_exporter": "python",
   "pygments_lexer": "ipython3",
   "version": "3.12.7"
  }
 },
 "nbformat": 4,
 "nbformat_minor": 5
}
