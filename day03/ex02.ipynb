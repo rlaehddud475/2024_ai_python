{
 "cells": [
  {
   "cell_type": "code",
   "execution_count": null,
   "id": "a85be42f-2667-466c-a197-3d220f05377e",
   "metadata": {},
   "outputs": [
    {
     "name": "stdin",
     "output_type": "stream",
     "text": [
      "숫자 입력: ㄴㅇㄴㄴ\n"
     ]
    },
    {
     "name": "stdout",
     "output_type": "stream",
     "text": [
      "숫자형식만 입력하세요\n"
     ]
    }
   ],
   "source": [
    "total=0\n",
    "while True:\n",
    "    num=input(\"숫자 입력:\")\n",
    "    try:\n",
    "        total+=int(num)\n",
    "        print(\"합계\",total)\n",
    "    except:\n",
    "        print(\"숫자형식만 입력하세요\")"
   ]
  },
  {
   "cell_type": "code",
   "execution_count": 1,
   "id": "91214b3c-143f-450c-b5dd-589e0cdf1fc3",
   "metadata": {},
   "outputs": [
    {
     "name": "stdout",
     "output_type": "stream",
     "text": [
      "합계: 625\n"
     ]
    }
   ],
   "source": [
    "total=0\n",
    "num=1\n",
    "while num<=100:\n",
    "    if num==50:\n",
    "        break\n",
    "    if num%2==0:\n",
    "       num+=1\n",
    "       continue\n",
    "        \n",
    "    total+=num\n",
    "    num+=1\n",
    "print(\"합계:\", total)"
   ]
  }
 ],
 "metadata": {
  "kernelspec": {
   "display_name": "Python 3 (ipykernel)",
   "language": "python",
   "name": "python3"
  },
  "language_info": {
   "codemirror_mode": {
    "name": "ipython",
    "version": 3
   },
   "file_extension": ".py",
   "mimetype": "text/x-python",
   "name": "python",
   "nbconvert_exporter": "python",
   "pygments_lexer": "ipython3",
   "version": "3.12.7"
  }
 },
 "nbformat": 4,
 "nbformat_minor": 5
}
