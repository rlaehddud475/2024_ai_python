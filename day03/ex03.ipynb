{
 "cells": [
  {
   "cell_type": "code",
   "execution_count": 3,
   "id": "14dfcf1b-aa9e-4f22-97b1-9038e427d663",
   "metadata": {},
   "outputs": [
    {
     "name": "stdout",
     "output_type": "stream",
     "text": [
      "사과 apple\n",
      "오렌지 orange\n",
      "멜론 melon\n",
      "망고 mango\n"
     ]
    }
   ],
   "source": [
    "fruits=[('사과','apple'),('오렌지','orange'),('멜론','melon'),('망고','mango')]\n",
    "for title,item in fruits:\n",
    "    print(title,item)"
   ]
  },
  {
   "cell_type": "code",
   "execution_count": 2,
   "id": "0ab56f86-b338-476c-8793-d93408d36861",
   "metadata": {},
   "outputs": [
    {
     "name": "stdout",
     "output_type": "stream",
     "text": [
      "A\n",
      "B\n",
      "C\n"
     ]
    }
   ],
   "source": [
    "for item in \"ABC\":\n",
    "    print(item)"
   ]
  },
  {
   "cell_type": "code",
   "execution_count": 7,
   "id": "1eefc3de-790f-4823-a797-81d7735ca71c",
   "metadata": {},
   "outputs": [
    {
     "name": "stdout",
     "output_type": "stream",
     "text": [
      "1 반복\n",
      "3 반복\n",
      "5 반복\n",
      "7 반복\n",
      "9 반복\n"
     ]
    }
   ],
   "source": [
    "#for i in range(10):\n",
    "  #  print(i)\n",
    "#for i in range(1,11):\n",
    "    #print(i,\"반복\")\n",
    "\n",
    "for i in range(1,11,2):\n",
    "    print(i,\"반복\")"
   ]
  },
  {
   "cell_type": "code",
   "execution_count": 8,
   "id": "c69990a6-7df8-4e05-90fe-a777c1253392",
   "metadata": {},
   "outputs": [
    {
     "name": "stdout",
     "output_type": "stream",
     "text": [
      "------2단---------\n",
      "2X1=2\n",
      "2X2=4\n",
      "2X3=6\n",
      "2X4=8\n",
      "2X5=10\n",
      "2X6=12\n",
      "2X7=14\n",
      "2X8=16\n",
      "2X9=18\n",
      "------3단---------\n",
      "3X1=3\n",
      "3X2=6\n",
      "3X3=9\n",
      "3X4=12\n",
      "3X5=15\n",
      "3X6=18\n",
      "3X7=21\n",
      "3X8=24\n",
      "3X9=27\n",
      "------4단---------\n",
      "4X1=4\n",
      "4X2=8\n",
      "4X3=12\n",
      "4X4=16\n",
      "4X5=20\n",
      "4X6=24\n",
      "4X7=28\n",
      "4X8=32\n",
      "4X9=36\n",
      "------5단---------\n",
      "5X1=5\n",
      "5X2=10\n",
      "5X3=15\n",
      "5X4=20\n",
      "5X5=25\n",
      "5X6=30\n",
      "5X7=35\n",
      "5X8=40\n",
      "5X9=45\n",
      "------6단---------\n",
      "6X1=6\n",
      "6X2=12\n",
      "6X3=18\n",
      "6X4=24\n",
      "6X5=30\n",
      "6X6=36\n",
      "6X7=42\n",
      "6X8=48\n",
      "6X9=54\n",
      "------7단---------\n",
      "7X1=7\n",
      "7X2=14\n",
      "7X3=21\n",
      "7X4=28\n",
      "7X5=35\n",
      "7X6=42\n",
      "7X7=49\n",
      "7X8=56\n",
      "7X9=63\n",
      "------8단---------\n",
      "8X1=8\n",
      "8X2=16\n",
      "8X3=24\n",
      "8X4=32\n",
      "8X5=40\n",
      "8X6=48\n",
      "8X7=56\n",
      "8X8=64\n",
      "8X9=72\n",
      "------9단---------\n",
      "9X1=9\n",
      "9X2=18\n",
      "9X3=27\n",
      "9X4=36\n",
      "9X5=45\n",
      "9X6=54\n",
      "9X7=63\n",
      "9X8=72\n",
      "9X9=81\n"
     ]
    }
   ],
   "source": [
    "for i in range(2,10):\n",
    "    print(\"------%d단---------\"%i)\n",
    "    for j in range(1,10):\n",
    "        print(f\"{i}X{j}={i*j}\")"
   ]
  },
  {
   "cell_type": "code",
   "execution_count": 10,
   "id": "b378a83d-e1aa-4111-a53f-2dc4bacbb519",
   "metadata": {},
   "outputs": [
    {
     "name": "stdout",
     "output_type": "stream",
     "text": [
      "[484, 361, 4, 25, 5929, 7396, 625]\n"
     ]
    }
   ],
   "source": [
    "nums=[22,19,2,5,77,86,25]\n",
    "result=[]\n",
    "for i in nums:\n",
    "    result.append(i*i)\n",
    "\n",
    "print(result)"
   ]
  },
  {
   "cell_type": "code",
   "execution_count": 11,
   "id": "60e03609-4cc6-4d4a-9946-9e3c0c5a1194",
   "metadata": {},
   "outputs": [
    {
     "name": "stdout",
     "output_type": "stream",
     "text": [
      "[484, 361, 4, 25, 5929, 7396, 625]\n"
     ]
    }
   ],
   "source": [
    "nums=[22,19,2,5,77,86,25]\n",
    "result=[i*i for i in nums]\n",
    "\n",
    "\n",
    "print(result)"
   ]
  },
  {
   "cell_type": "code",
   "execution_count": 12,
   "id": "b47d37b0-6a51-4821-830e-16cdf4e0b084",
   "metadata": {},
   "outputs": [
    {
     "name": "stdout",
     "output_type": "stream",
     "text": [
      "[11, 22, 33, 44, 55, 66, 77, 88, 99, 100, 22, 44, 66, 88, 110, 132, 154, 176, 198, 200, 33, 66, 99, 132, 165, 198, 231, 264, 297, 300, 44, 88, 132, 176, 220, 264, 308, 352, 396, 400, 55, 110, 165, 220, 275, 330, 385, 440, 495, 500, 66, 132, 198, 264, 330, 396, 462, 528, 594, 600, 77, 154, 231, 308, 385, 462, 539, 616, 693, 700, 88, 176, 264, 352, 440, 528, 616, 704, 792, 800, 99, 198, 297, 396, 495, 594, 693, 792, 891, 900, 110, 220, 330, 440, 550, 660, 770, 880, 990, 1000]\n"
     ]
    }
   ],
   "source": [
    "nums1=[1,2,3,4,5,6,7,8,9,10]\n",
    "nums2=[11,22,33,44,55,66,77,88,99,100]\n",
    "result = [i*j for i in nums1 for j in nums2]\n",
    "print(result)"
   ]
  },
  {
   "cell_type": "code",
   "execution_count": 13,
   "id": "d6e2e3e3-67aa-4499-9e2a-3e2fbef3d711",
   "metadata": {},
   "outputs": [
    {
     "name": "stdout",
     "output_type": "stream",
     "text": [
      "[22, 66, 110, 154, 198, 44, 132, 220, 308, 396, 66, 198, 330, 462, 594, 88, 264, 440, 616, 792, 110, 330, 550, 770, 990]\n"
     ]
    }
   ],
   "source": [
    "nums1=[1,2,3,4,5,6,7,8,9,10]\n",
    "nums2=[11,22,33,44,55,66,77,88,99,100]\n",
    "#result = [i*j for i in nums1 \n",
    "     #     for j in nums2]\n",
    "result=[i*j for i in nums1 if i %2==0\n",
    "        for j in nums2 if j %2==1]\n",
    "print(result)"
   ]
  },
  {
   "cell_type": "code",
   "execution_count": null,
   "id": "1419bf0f-ac85-4859-bceb-3bd9579eca84",
   "metadata": {},
   "outputs": [],
   "source": []
  }
 ],
 "metadata": {
  "kernelspec": {
   "display_name": "Python 3 (ipykernel)",
   "language": "python",
   "name": "python3"
  },
  "language_info": {
   "codemirror_mode": {
    "name": "ipython",
    "version": 3
   },
   "file_extension": ".py",
   "mimetype": "text/x-python",
   "name": "python",
   "nbconvert_exporter": "python",
   "pygments_lexer": "ipython3",
   "version": "3.12.7"
  }
 },
 "nbformat": 4,
 "nbformat_minor": 5
}
