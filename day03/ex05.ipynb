{
 "cells": [
  {
   "cell_type": "code",
   "execution_count": 11,
   "id": "311e67eb-b7e8-44fe-835e-809438ea524e",
   "metadata": {},
   "outputs": [
    {
     "name": "stdout",
     "output_type": "stream",
     "text": [
      "ABCDEFGHI\n"
     ]
    }
   ],
   "source": [
    "print(\"ABC\"+\"DEF\"+\"GHI\")"
   ]
  },
  {
   "cell_type": "code",
   "execution_count": 12,
   "id": "f62e4cd1-d1fb-40cc-8fb7-06bee104bcf2",
   "metadata": {},
   "outputs": [
    {
     "name": "stdout",
     "output_type": "stream",
     "text": [
      "ABCDEFGHI\n"
     ]
    }
   ],
   "source": [
    "print(\"ABC\"\"DEF\"\"GHI\")"
   ]
  },
  {
   "cell_type": "code",
   "execution_count": 13,
   "id": "d6072c22-186b-49f7-9563-263ef6ce95d7",
   "metadata": {},
   "outputs": [
    {
     "name": "stdout",
     "output_type": "stream",
     "text": [
      "ABC DEF GHI\n"
     ]
    }
   ],
   "source": [
    "print(\"ABC\",\"DEF\",\"GHI\")"
   ]
  },
  {
   "cell_type": "code",
   "execution_count": 15,
   "id": "6b937445-bf2d-48fd-9c57-76108d763515",
   "metadata": {},
   "outputs": [
    {
     "name": "stdout",
     "output_type": "stream",
     "text": [
      "ABC#DEF#GHI\n"
     ]
    }
   ],
   "source": [
    "print(\"ABC\", end=\"#\")\n",
    "print(\"DEF\",end=\"#\")\n",
    "print(\"GHI\")"
   ]
  },
  {
   "cell_type": "code",
   "execution_count": null,
   "id": "05041cbb-f6eb-4773-8a21-f52dab4bc6dd",
   "metadata": {},
   "outputs": [],
   "source": []
  }
 ],
 "metadata": {
  "kernelspec": {
   "display_name": "Python 3 (ipykernel)",
   "language": "python",
   "name": "python3"
  },
  "language_info": {
   "codemirror_mode": {
    "name": "ipython",
    "version": 3
   },
   "file_extension": ".py",
   "mimetype": "text/x-python",
   "name": "python",
   "nbconvert_exporter": "python",
   "pygments_lexer": "ipython3",
   "version": "3.12.7"
  }
 },
 "nbformat": 4,
 "nbformat_minor": 5
}
