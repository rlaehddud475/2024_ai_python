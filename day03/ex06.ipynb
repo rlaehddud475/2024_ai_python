{
 "cells": [
  {
   "cell_type": "code",
   "execution_count": 2,
   "id": "31e7cd6d-3de2-4dd1-ad23-6e92e411c5d2",
   "metadata": {},
   "outputs": [],
   "source": [
    "f=open(\"D:/data.txt\",\"w\")\n",
    "for i in range(1,11):\n",
    "    f.write(\"%d번째 줄입니다.\\n\" % i)\n",
    "f.close()"
   ]
  },
  {
   "cell_type": "code",
   "execution_count": 3,
   "id": "1a73ab05-f5b2-452b-bc58-6b0df37bb94e",
   "metadata": {},
   "outputs": [
    {
     "name": "stdout",
     "output_type": "stream",
     "text": [
      "1번째 줄입니다.\n",
      "2번째 줄입니다.\n",
      "3번째 줄입니다.\n",
      "4번째 줄입니다.\n",
      "5번째 줄입니다.\n",
      "6번째 줄입니다.\n",
      "7번째 줄입니다.\n",
      "8번째 줄입니다.\n",
      "9번째 줄입니다.\n",
      "10번째 줄입니다.\n",
      "\n"
     ]
    }
   ],
   "source": [
    "f=open(\"D:/data.txt\",\"r\")\n",
    "\n",
    "data=f.read() \n",
    "print(data)\n",
    "f.close()"
   ]
  },
  {
   "cell_type": "code",
   "execution_count": 7,
   "id": "b3588c98-fee0-4b19-be84-24b9519a46b0",
   "metadata": {},
   "outputs": [
    {
     "name": "stdout",
     "output_type": "stream",
     "text": [
      "1번째 줄입니다.\n",
      " 2번째 줄입니다.\n",
      " 3번째 줄입니다.\n",
      " 4번째 줄입니다.\n",
      " 5번째 줄입니다.\n",
      " 6번째 줄입니다.\n",
      " 7번째 줄입니다.\n",
      " 8번째 줄입니다.\n",
      " 9번째 줄입니다.\n",
      " 10번째 줄입니다.\n",
      "  "
     ]
    }
   ],
   "source": [
    "f=open(\"D:/data.txt\",\"r\")\n",
    "\n",
    "while True:\n",
    "    line=f.readline()\n",
    "    print(line, end=' ')\n",
    "    if not line: break\n",
    "f.close()"
   ]
  }
 ],
 "metadata": {
  "kernelspec": {
   "display_name": "Python 3 (ipykernel)",
   "language": "python",
   "name": "python3"
  },
  "language_info": {
   "codemirror_mode": {
    "name": "ipython",
    "version": 3
   },
   "file_extension": ".py",
   "mimetype": "text/x-python",
   "name": "python",
   "nbconvert_exporter": "python",
   "pygments_lexer": "ipython3",
   "version": "3.12.7"
  }
 },
 "nbformat": 4,
 "nbformat_minor": 5
}
