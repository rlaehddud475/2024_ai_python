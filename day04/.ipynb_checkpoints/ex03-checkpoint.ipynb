{
 "cells": [
  {
   "cell_type": "code",
   "execution_count": 31,
   "id": "5538db9f-3abe-4669-aad9-1d99415d60b5",
   "metadata": {},
   "outputs": [],
   "source": [
    "class Calculator:\n",
    "    def __init__(self,a,b):\n",
    "        self.a=a\n",
    "        self.b=b\n",
    "    def add(self):\n",
    "        return self.a+self.b\n",
    "    def sub(self):\n",
    "        return self.a-self.b\n",
    "    def mul(self):\n",
    "        return self.a*self.b\n",
    "    def div(self):\n",
    "        return self.a/self.b\n",
    "        "
   ]
  },
  {
   "cell_type": "code",
   "execution_count": 32,
   "id": "eb9bc515-e92a-4b1d-a1dc-a757026f2011",
   "metadata": {},
   "outputs": [],
   "source": [
    "cal=Calculator(10,20)"
   ]
  },
  {
   "cell_type": "code",
   "execution_count": 34,
   "id": "72b4ef3a-577a-4dc3-9cf9-31dd8658ff6c",
   "metadata": {},
   "outputs": [
    {
     "data": {
      "text/plain": [
       "200"
      ]
     },
     "execution_count": 34,
     "metadata": {},
     "output_type": "execute_result"
    }
   ],
   "source": [
    "\n",
    "cal.add()\n",
    "cal.mul()"
   ]
  },
  {
   "cell_type": "code",
   "execution_count": 47,
   "id": "fae94f0e-3694-4d89-926e-549444197d56",
   "metadata": {},
   "outputs": [],
   "source": [
    "class ProCalculator(Calculator):\n",
    "   def div(self):\n",
    "       if self.b==0:\n",
    "           return 0\n",
    "       return Calculator.div(self)\n",
    "   def square(self,x):\n",
    "    return x**2"
   ]
  },
  {
   "cell_type": "code",
   "execution_count": 48,
   "id": "b5d90d35-8f2f-454a-82f5-d26baeeb4b5f",
   "metadata": {},
   "outputs": [
    {
     "data": {
      "text/plain": [
       "0"
      ]
     },
     "execution_count": 48,
     "metadata": {},
     "output_type": "execute_result"
    }
   ],
   "source": [
    "cal2=ProCalculator(10,0)\n",
    "cal2.div()"
   ]
  },
  {
   "cell_type": "code",
   "execution_count": 51,
   "id": "a1acc4b9-8256-47f6-8fc2-69eef7b93667",
   "metadata": {},
   "outputs": [],
   "source": [
    "class Student:\n",
    "    def __init__(self,id,name,major):\n",
    "        self.id=id\n",
    "        self.name=name\n",
    "        self.major=major\n",
    "    def __str__(self):\n",
    "        return f'id={self.id}, name={self.name}, major={self.major}'"
   ]
  },
  {
   "cell_type": "code",
   "execution_count": 52,
   "id": "4ace5b6a-f2a2-4aee-936f-83f0be520f38",
   "metadata": {},
   "outputs": [
    {
     "name": "stdout",
     "output_type": "stream",
     "text": [
      "id=1000, name=이이름, major=파이썬\n"
     ]
    }
   ],
   "source": [
    "s1=Student(1000,\"이이름\",\"파이썬\")\n",
    "print(s1)"
   ]
  },
  {
   "cell_type": "code",
   "execution_count": 67,
   "id": "1b622137-ff55-48d8-86f8-d6008a6da2fb",
   "metadata": {},
   "outputs": [
    {
     "ename": "IndentationError",
     "evalue": "unindent does not match any outer indentation level (<string>, line 6)",
     "output_type": "error",
     "traceback": [
      "\u001b[1;36m  File \u001b[1;32m<string>:6\u001b[1;36m\u001b[0m\n\u001b[1;33m    def __str__(self):\u001b[0m\n\u001b[1;37m                      ^\u001b[0m\n\u001b[1;31mIndentationError\u001b[0m\u001b[1;31m:\u001b[0m unindent does not match any outer indentation level\n"
     ]
    }
   ],
   "source": [
    "class Multiply:\n",
    "    def __init__(self,num):\n",
    "        self.num=num\n",
    "    def __call__(self,num):\n",
    "        return self.num*num\n",
    "     def __str__(self):\n",
    "        return str(self.num)"
   ]
  },
  {
   "cell_type": "code",
   "execution_count": 59,
   "id": "29c3d194-c5c7-4e92-a536-05ea7c867034",
   "metadata": {},
   "outputs": [
    {
     "name": "stdout",
     "output_type": "stream",
     "text": [
      "200\n",
      "<__main__.Multiply object at 0x0000029C33E7BD40>\n"
     ]
    }
   ],
   "source": [
    "mul=Multiply(10)\n",
    "result=mul(20)\n",
    "print(result)\n",
    "print(mul)"
   ]
  }
 ],
 "metadata": {
  "kernelspec": {
   "display_name": "Python 3 (ipykernel)",
   "language": "python",
   "name": "python3"
  },
  "language_info": {
   "codemirror_mode": {
    "name": "ipython",
    "version": 3
   },
   "file_extension": ".py",
   "mimetype": "text/x-python",
   "name": "python",
   "nbconvert_exporter": "python",
   "pygments_lexer": "ipython3",
   "version": "3.12.7"
  }
 },
 "nbformat": 4,
 "nbformat_minor": 5
}
