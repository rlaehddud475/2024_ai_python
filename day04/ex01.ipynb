{
 "cells": [
  {
   "cell_type": "code",
   "execution_count": 3,
   "id": "39b15e29-e3a0-4040-a572-39bf8a69ccf8",
   "metadata": {},
   "outputs": [],
   "source": [
    "f=open('D:/data.txt','w')\n",
    "for i in range(1,11):\n",
    "    f.write(\"%d번 라인\\n\"%i)\n",
    "f.close()"
   ]
  },
  {
   "cell_type": "code",
   "execution_count": 4,
   "id": "25325f9c-4393-4e6e-beba-8c8ef3a711f6",
   "metadata": {},
   "outputs": [
    {
     "name": "stdout",
     "output_type": "stream",
     "text": [
      "1번 라인\n",
      "2번 라인\n",
      "3번 라인\n",
      "4번 라인\n",
      "5번 라인\n",
      "6번 라인\n",
      "7번 라인\n",
      "8번 라인\n",
      "9번 라인\n",
      "10번 라인\n",
      "\n"
     ]
    }
   ],
   "source": [
    "f=open('D:/data.txt','r')\n",
    "data=f.read()\n",
    "f.close()\n",
    "print(data)"
   ]
  },
  {
   "cell_type": "code",
   "execution_count": 7,
   "id": "d9639035-cb7d-49ee-a177-f3622a852190",
   "metadata": {},
   "outputs": [
    {
     "name": "stdout",
     "output_type": "stream",
     "text": [
      "1번 라인\n",
      "2번 라인\n",
      "3번 라인\n",
      "4번 라인\n",
      "5번 라인\n",
      "6번 라인\n",
      "7번 라인\n",
      "8번 라인\n",
      "9번 라인\n",
      "10번 라인\n"
     ]
    }
   ],
   "source": [
    "f=open('D:/data.txt','r')\n",
    "while True :\n",
    "    line=f.readline()\n",
    "    if not line:break\n",
    "  #  print(line, end='')\n",
    "    print(line.strip())\n",
    "f.close()\n"
   ]
  },
  {
   "cell_type": "code",
   "execution_count": 10,
   "id": "eb23006b-bbd1-4210-8952-cdba3f6fd5f4",
   "metadata": {},
   "outputs": [
    {
     "name": "stdout",
     "output_type": "stream",
     "text": [
      "1번 라인\n"
     ]
    }
   ],
   "source": [
    "f=open('D:/data.txt','r')\n",
    "lines =f.readline()\n",
    "for line in lines:\n",
    "    print(line, end='')\n",
    "\n",
    "f.close()"
   ]
  },
  {
   "cell_type": "code",
   "execution_count": 12,
   "id": "d10a4f33-89db-460f-ac1c-ec760741a906",
   "metadata": {},
   "outputs": [
    {
     "name": "stdout",
     "output_type": "stream",
     "text": [
      "1번 라인\n",
      "2번 라인\n",
      "3번 라인\n",
      "4번 라인\n",
      "5번 라인\n",
      "6번 라인\n",
      "7번 라인\n",
      "8번 라인\n",
      "9번 라인\n",
      "10번 라인\n"
     ]
    }
   ],
   "source": [
    "f=open('D:/data.txt','r')\n",
    "for line in f:\n",
    "    print(line, end='')\n",
    "f.close()"
   ]
  },
  {
   "cell_type": "code",
   "execution_count": 14,
   "id": "ef772aff-dd15-425c-9352-b50937440a12",
   "metadata": {},
   "outputs": [],
   "source": [
    "f=open('D:/log.txt','a')\n",
    "f.write(\"로그3\\n\")\n",
    "f.write(\"로그4\\n\")\n",
    "f.close()"
   ]
  },
  {
   "cell_type": "code",
   "execution_count": 15,
   "id": "495cd817-506b-4382-ba41-2c7ee5c75a29",
   "metadata": {},
   "outputs": [],
   "source": [
    "with open(\"data2.txt\",\"w\") as f:\n",
    "    f.write(\"테스트 텍스트...\")"
   ]
  }
 ],
 "metadata": {
  "kernelspec": {
   "display_name": "Python 3 (ipykernel)",
   "language": "python",
   "name": "python3"
  },
  "language_info": {
   "codemirror_mode": {
    "name": "ipython",
    "version": 3
   },
   "file_extension": ".py",
   "mimetype": "text/x-python",
   "name": "python",
   "nbconvert_exporter": "python",
   "pygments_lexer": "ipython3",
   "version": "3.12.7"
  }
 },
 "nbformat": 4,
 "nbformat_minor": 5
}
