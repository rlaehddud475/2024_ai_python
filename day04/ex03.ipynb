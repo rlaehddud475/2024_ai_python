{
 "cells": [
  {
   "cell_type": "code",
   "execution_count": 31,
   "id": "5538db9f-3abe-4669-aad9-1d99415d60b5",
   "metadata": {},
   "outputs": [],
   "source": [
    "class Calculator:\n",
    "    def __init__(self,a,b):\n",
    "        self.a=a\n",
    "        self.b=b\n",
    "    def add(self):\n",
    "        return self.a+self.b\n",
    "    def sub(self):\n",
    "        return self.a-self.b\n",
    "    def mul(self):\n",
    "        return self.a*self.b\n",
    "    def div(self):\n",
    "        return self.a/self.b\n",
    "        "
   ]
  },
  {
   "cell_type": "code",
   "execution_count": 32,
   "id": "eb9bc515-e92a-4b1d-a1dc-a757026f2011",
   "metadata": {},
   "outputs": [],
   "source": [
    "cal=Calculator(10,20)"
   ]
  },
  {
   "cell_type": "code",
   "execution_count": 34,
   "id": "72b4ef3a-577a-4dc3-9cf9-31dd8658ff6c",
   "metadata": {},
   "outputs": [
    {
     "data": {
      "text/plain": [
       "200"
      ]
     },
     "execution_count": 34,
     "metadata": {},
     "output_type": "execute_result"
    }
   ],
   "source": [
    "\n",
    "cal.add()\n",
    "cal.mul()"
   ]
  },
  {
   "cell_type": "code",
   "execution_count": 47,
   "id": "fae94f0e-3694-4d89-926e-549444197d56",
   "metadata": {},
   "outputs": [],
   "source": [
    "class ProCalculator(Calculator):\n",
    "   def div(self):\n",
    "       if self.b==0:\n",
    "           return 0\n",
    "       return Calculator.div(self)\n",
    "   def square(self,x):\n",
    "    return x**2"
   ]
  },
  {
   "cell_type": "code",
   "execution_count": 48,
   "id": "b5d90d35-8f2f-454a-82f5-d26baeeb4b5f",
   "metadata": {},
   "outputs": [
    {
     "data": {
      "text/plain": [
       "0"
      ]
     },
     "execution_count": 48,
     "metadata": {},
     "output_type": "execute_result"
    }
   ],
   "source": [
    "cal2=ProCalculator(10,0)\n",
    "cal2.div()"
   ]
  },
  {
   "cell_type": "code",
   "execution_count": 51,
   "id": "a1acc4b9-8256-47f6-8fc2-69eef7b93667",
   "metadata": {},
   "outputs": [],
   "source": [
    "class Student:\n",
    "    def __init__(self,id,name,major):\n",
    "        self.id=id\n",
    "        self.name=name\n",
    "        self.major=major\n",
    "    def __str__(self):\n",
    "        return f'id={self.id}, name={self.name}, major={self.major}'"
   ]
  },
  {
   "cell_type": "code",
   "execution_count": 52,
   "id": "4ace5b6a-f2a2-4aee-936f-83f0be520f38",
   "metadata": {},
   "outputs": [
    {
     "name": "stdout",
     "output_type": "stream",
     "text": [
      "id=1000, name=이이름, major=파이썬\n"
     ]
    }
   ],
   "source": [
    "s1=Student(1000,\"이이름\",\"파이썬\")\n",
    "print(s1)"
   ]
  },
  {
   "cell_type": "code",
   "execution_count": 89,
   "id": "1b622137-ff55-48d8-86f8-d6008a6da2fb",
   "metadata": {},
   "outputs": [],
   "source": [
    "class Multiply:\n",
    "    def __init__(self,num):\n",
    "        self.num=num\n",
    "        \n",
    "    def __call__(self,num):\n",
    "        return self.num*num\n",
    "        \n",
    "    def __str__(self):\n",
    "        return str(self.num)"
   ]
  },
  {
   "cell_type": "code",
   "execution_count": 90,
   "id": "29c3d194-c5c7-4e92-a536-05ea7c867034",
   "metadata": {},
   "outputs": [
    {
     "name": "stdout",
     "output_type": "stream",
     "text": [
      "200\n",
      "10\n"
     ]
    }
   ],
   "source": [
    "mul=Multiply(10)\n",
    "result=mul(20)\n",
    "print(result)\n",
    "print(mul)"
   ]
  },
  {
   "cell_type": "code",
   "execution_count": 94,
   "id": "c3e35af7-e36b-4f29-8d10-150861efd4b1",
   "metadata": {},
   "outputs": [],
   "source": [
    "class Family:\n",
    "    lastname='이'"
   ]
  },
  {
   "cell_type": "code",
   "execution_count": 92,
   "id": "5e1f933f-9d9f-45e8-8e3d-243f8cc92866",
   "metadata": {},
   "outputs": [],
   "source": [
    "#Family.lastname='이'"
   ]
  },
  {
   "cell_type": "code",
   "execution_count": 96,
   "id": "86bace35-0f46-4fc5-ae66-8aa85c45063f",
   "metadata": {},
   "outputs": [
    {
     "name": "stdout",
     "output_type": "stream",
     "text": [
      "f1: 김\n",
      "f2: 이\n"
     ]
    }
   ],
   "source": [
    "f1=Family()\n",
    "f2=Family()\n",
    "f1.lastname=\"김\"\n",
    "print(\"f1: %s\" %f1.lastname)\n",
    "print(\"f2: %s\" %f2.lastname)"
   ]
  },
  {
   "cell_type": "code",
   "execution_count": 97,
   "id": "97c1c4d9-b94e-4a15-9f85-1ca0cab03f13",
   "metadata": {},
   "outputs": [],
   "source": [
    "class Bird:\n",
    "    def fly(self):\n",
    "        raise NotImplementedError"
   ]
  },
  {
   "cell_type": "code",
   "execution_count": 100,
   "id": "20e6b388-dc39-44a2-a5de-2b9bfc624495",
   "metadata": {},
   "outputs": [],
   "source": [
    "class Eagle(Bird):\n",
    "    def fly(self):\n",
    "        print(\"독수리가 존나 빠르게 난다\")"
   ]
  },
  {
   "cell_type": "code",
   "execution_count": 101,
   "id": "d43c081e-2b63-4ec9-9e9e-69ea0119d6e6",
   "metadata": {},
   "outputs": [
    {
     "name": "stdout",
     "output_type": "stream",
     "text": [
      "독수리가 존나 빠르게 난다\n"
     ]
    }
   ],
   "source": [
    "e1=Eagle()\n",
    "e1.fly()"
   ]
  }
 ],
 "metadata": {
  "kernelspec": {
   "display_name": "Python 3 (ipykernel)",
   "language": "python",
   "name": "python3"
  },
  "language_info": {
   "codemirror_mode": {
    "name": "ipython",
    "version": 3
   },
   "file_extension": ".py",
   "mimetype": "text/x-python",
   "name": "python",
   "nbconvert_exporter": "python",
   "pygments_lexer": "ipython3",
   "version": "3.12.7"
  }
 },
 "nbformat": 4,
 "nbformat_minor": 5
}
