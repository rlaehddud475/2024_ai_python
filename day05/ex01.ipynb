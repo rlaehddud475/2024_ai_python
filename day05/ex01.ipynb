{
 "cells": [
  {
   "cell_type": "code",
   "execution_count": 15,
   "id": "49cc2f63-c1fe-49f8-9ba4-6b1241aeb6b4",
   "metadata": {},
   "outputs": [
    {
     "name": "stdout",
     "output_type": "stream",
     "text": [
      "5.0\n",
      "'망고' is not in list\n",
      "Traceback (most recent call last):\n",
      "  File \"C:\\Users\\admin\\AppData\\Local\\Temp\\ipykernel_5376\\3613782168.py\", line 9, in <module>\n",
      "    pos=fruits.index('망고')\n",
      "        ^^^^^^^^^^^^^^^^^^^^\n",
      "ValueError: '망고' is not in list\n",
      "\n",
      "매우 중요한 코드! 꼭 실행 되어야함\n"
     ]
    }
   ],
   "source": [
    "import traceback\n",
    "try:\n",
    "    num1=10\n",
    "    num2=2\n",
    "    result=num1/num2\n",
    "    print(result)\n",
    "\n",
    "    fruits=['사과','멜론','오렌지']\n",
    "    pos=fruits.index('망고')\n",
    "    print(pos)\n",
    "except ZeroDivisionError as e:\n",
    "    print(e)\n",
    "    print(traceback.format_exc())\n",
    "except ValueError as e:\n",
    "    print(e)\n",
    "    print(traceback.format_exc())\n",
    "    \n",
    "print(\"매우 중요한 코드! 꼭 실행 되어야함\")"
   ]
  },
  {
   "cell_type": "code",
   "execution_count": 21,
   "id": "8015364c-b0b2-4210-95d5-03d2e53b3b33",
   "metadata": {},
   "outputs": [
    {
     "name": "stdout",
     "output_type": "stream",
     "text": [
      "5.0\n",
      "예외 발생\n",
      "매우 중요한 코드! 꼭 실행 되어야함\n"
     ]
    }
   ],
   "source": [
    "try:\n",
    "    num1=10\n",
    "    num2=2\n",
    "    result=num1/num2\n",
    "    print(result)\n",
    "\n",
    "    fruits=['사과','멜론','오렌지']\n",
    "    pos=fruits.index('망고')\n",
    "    print(pos)\n",
    "except Exception:\n",
    "    print(\"예외 발생\")\n",
    "else:\n",
    "    print(\"잘 처리됨\")\n",
    "    \n",
    "print(\"매우 중요한 코드! 꼭 실행 되어야함\")"
   ]
  },
  {
   "cell_type": "code",
   "execution_count": 17,
   "id": "9bffc682-e71d-45ab-bea3-d40e533c24af",
   "metadata": {},
   "outputs": [],
   "source": [
    "def add(a,b):\n",
    "    return a+b\n",
    "    print(\"실행\")\n"
   ]
  },
  {
   "cell_type": "code",
   "execution_count": 18,
   "id": "43c639f9-261c-4cbb-b105-0f32a803ed61",
   "metadata": {},
   "outputs": [
    {
     "data": {
      "text/plain": [
       "30"
      ]
     },
     "execution_count": 18,
     "metadata": {},
     "output_type": "execute_result"
    }
   ],
   "source": [
    "add(10,20)"
   ]
  },
  {
   "cell_type": "code",
   "execution_count": 19,
   "id": "70014afe-41c3-4a2d-ab90-e9ab88b022cd",
   "metadata": {},
   "outputs": [],
   "source": [
    "def add(a,b):\n",
    "    try:\n",
    "        return a+b\n",
    "    finally:\n",
    "        print(\"실행\")"
   ]
  },
  {
   "cell_type": "code",
   "execution_count": 20,
   "id": "7cfe0f93-2624-4d97-94d6-057c4b05b804",
   "metadata": {
    "scrolled": true
   },
   "outputs": [
    {
     "name": "stdout",
     "output_type": "stream",
     "text": [
      "실행\n"
     ]
    },
    {
     "data": {
      "text/plain": [
       "30"
      ]
     },
     "execution_count": 20,
     "metadata": {},
     "output_type": "execute_result"
    }
   ],
   "source": [
    "add(10,20)"
   ]
  },
  {
   "cell_type": "code",
   "execution_count": 24,
   "id": "0ab6d506-c8d4-45ff-8f5f-34ae36f00f25",
   "metadata": {},
   "outputs": [],
   "source": [
    "def login(user_id, user_pass):\n",
    "    if user_id != 'user01':\n",
    "        return Exception(\"아이디가 일치하지 않습니다.\")\n",
    "    if user_pass != '1234':\n",
    "        return Exception(\"비밀번호가 일치하지 않습니다.\")\n",
    "    print(\"로그인 성공\")"
   ]
  },
  {
   "cell_type": "code",
   "execution_count": 25,
   "id": "b51d5fda-727e-4ce9-86cf-2d75927ffc6a",
   "metadata": {},
   "outputs": [
    {
     "data": {
      "text/plain": [
       "Exception('아이디가 일치하지 않습니다.')"
      ]
     },
     "execution_count": 25,
     "metadata": {},
     "output_type": "execute_result"
    }
   ],
   "source": [
    "login(\"user02\",\"1234\")"
   ]
  },
  {
   "cell_type": "code",
   "execution_count": 73,
   "id": "5d25b5a0-f6c2-4847-854f-77006b18da26",
   "metadata": {},
   "outputs": [],
   "source": [
    "class UserIdException(Exception):\n",
    "    def __init__(self,message):\n",
    "        self.message=message\n",
    "    def __str__(self):\n",
    "        return self.message\n",
    "class UserPassException(Exception):\n",
    "    def __init__(self,message):\n",
    "        self.message=message\n",
    "    def __str__(self):\n",
    "        return self.message"
   ]
  },
  {
   "cell_type": "code",
   "execution_count": 74,
   "id": "f5d58a94-422a-414d-aae3-c7396e266c27",
   "metadata": {},
   "outputs": [],
   "source": [
    "def login(user_id,user_pass):\n",
    "    if user_id!='user01':\n",
    "        return UserIdException(\"아이디가 일치하지 않습니다.\")\n",
    "    if user_pass!='1234':\n",
    "        return UserPassException(\"비밀번호가 일치하지 않습니다.\")\n",
    "    print(\"로그인 완료\")"
   ]
  },
  {
   "cell_type": "code",
   "execution_count": 77,
   "id": "c7c0f6c2-7a6e-42d1-849e-a68295ca2240",
   "metadata": {},
   "outputs": [],
   "source": [
    "import traceback\n",
    "try:\n",
    "    login('user02','1ww')\n",
    "\n",
    "except (UserIdException, UserPassException) as e:\n",
    "    print(e)\n",
    "    print(traceback.format_exc())"
   ]
  }
 ],
 "metadata": {
  "kernelspec": {
   "display_name": "Python 3 (ipykernel)",
   "language": "python",
   "name": "python3"
  },
  "language_info": {
   "codemirror_mode": {
    "name": "ipython",
    "version": 3
   },
   "file_extension": ".py",
   "mimetype": "text/x-python",
   "name": "python",
   "nbconvert_exporter": "python",
   "pygments_lexer": "ipython3",
   "version": "3.12.7"
  }
 },
 "nbformat": 4,
 "nbformat_minor": 5
}
