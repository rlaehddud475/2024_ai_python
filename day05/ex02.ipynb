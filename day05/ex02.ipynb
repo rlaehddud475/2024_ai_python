{
 "cells": [
  {
   "cell_type": "code",
   "execution_count": 1,
   "id": "35a35b22-5306-46fe-96f5-b1cc8b5725bf",
   "metadata": {},
   "outputs": [
    {
     "name": "stdout",
     "output_type": "stream",
     "text": [
      "True\n",
      "140716494105304 140716494105304\n"
     ]
    }
   ],
   "source": [
    "a=10\n",
    "b=10\n",
    "\n",
    "print(a==b)\n",
    "print(id(a),id(b))"
   ]
  },
  {
   "cell_type": "code",
   "execution_count": 2,
   "id": "eb99830e-ac8a-414c-b33b-35a546337738",
   "metadata": {},
   "outputs": [
    {
     "name": "stdout",
     "output_type": "stream",
     "text": [
      "140716493652912 140716493652912\n"
     ]
    }
   ],
   "source": [
    "a=\"ABC\"\n",
    "b=\"ABC\"\n",
    "print(id(a),id(b))"
   ]
  },
  {
   "cell_type": "code",
   "execution_count": 7,
   "id": "f2ebe16f-3965-443c-be1e-1559f17ab678",
   "metadata": {},
   "outputs": [
    {
     "name": "stdout",
     "output_type": "stream",
     "text": [
      "2024.11.21\n"
     ]
    }
   ],
   "source": [
    "import time\n",
    "today=time.localtime(time.time())\n",
    "strDate=time.strftime(\"%Y.%m.%d\",today)\n",
    "print(strDate)"
   ]
  },
  {
   "cell_type": "code",
   "execution_count": 1,
   "id": "2947b3c1-dfe8-4129-9c99-5364af17b26d",
   "metadata": {},
   "outputs": [
    {
     "name": "stdout",
     "output_type": "stream",
     "text": [
      "D:/$RECYCLE.BIN\n",
      "D:/data.txt\n",
      "D:/data1.txt\n",
      "D:/devtools\n",
      "D:/ex\n",
      "D:/gitex\n",
      "D:/gitex2\n",
      "D:/javaweb_kda\n",
      "D:/log.txt\n",
      "D:/modex\n",
      "D:/python_basic\n",
      "D:/springmvc_kda\n",
      "D:/System Volume Information\n",
      "D:/temp.log\n",
      "D:/temp10851064069430456012log\n",
      "D:/tmp\n",
      "D:/uploads\n",
      "D:/workspace_da\n",
      "D:/yse_springboot\n",
      "D:/김다애\n",
      "D:/김동영\n",
      "D:/사진\n"
     ]
    }
   ],
   "source": [
    "from glob import glob\n",
    "files=glob(\"D:/*\")\n",
    "for file in files:\n",
    "    \n",
    "    print(file)"
   ]
  }
 ],
 "metadata": {
  "kernelspec": {
   "display_name": "Python 3 (ipykernel)",
   "language": "python",
   "name": "python3"
  },
  "language_info": {
   "codemirror_mode": {
    "name": "ipython",
    "version": 3
   },
   "file_extension": ".py",
   "mimetype": "text/x-python",
   "name": "python",
   "nbconvert_exporter": "python",
   "pygments_lexer": "ipython3",
   "version": "3.12.7"
  }
 },
 "nbformat": 4,
 "nbformat_minor": 5
}
