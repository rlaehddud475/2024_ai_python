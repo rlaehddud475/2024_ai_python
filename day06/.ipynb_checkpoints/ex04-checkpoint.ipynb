{
 "cells": [
  {
   "cell_type": "code",
   "execution_count": 21,
   "id": "7c0cfa23-3745-4c11-ad8d-b40f7d5207dd",
   "metadata": {},
   "outputs": [],
   "source": [
    "fruits=[\"사과\",\"오렌지\",\"망고\",\"멜론\"]\n",
    "itr=iter(fruits)"
   ]
  },
  {
   "cell_type": "code",
   "execution_count": 11,
   "id": "1eb81b6d-11d2-4fd7-94e7-845f3aef7916",
   "metadata": {},
   "outputs": [
    {
     "data": {
      "text/plain": [
       "'사과'"
      ]
     },
     "execution_count": 11,
     "metadata": {},
     "output_type": "execute_result"
    }
   ],
   "source": [
    "next(itr)"
   ]
  },
  {
   "cell_type": "code",
   "execution_count": 19,
   "id": "dc83c37f-dc81-4812-b959-550cc315c892",
   "metadata": {},
   "outputs": [
    {
     "name": "stdout",
     "output_type": "stream",
     "text": [
      "사과\n",
      "오렌지\n",
      "망고\n",
      "멜론\n"
     ]
    }
   ],
   "source": [
    "while True:\n",
    "    try:\n",
    "        print(next(itr))\n",
    "    except StopIteration:\n",
    "        break"
   ]
  },
  {
   "cell_type": "code",
   "execution_count": 22,
   "id": "e510fa0a-2e53-4a7a-b1f4-e6faeb61d60d",
   "metadata": {},
   "outputs": [
    {
     "name": "stdout",
     "output_type": "stream",
     "text": [
      "사과\n",
      "오렌지\n",
      "망고\n",
      "멜론\n"
     ]
    }
   ],
   "source": [
    "for fruit in itr:\n",
    "    print(fruit)"
   ]
  },
  {
   "cell_type": "code",
   "execution_count": 23,
   "id": "0394a5bb-7705-4391-9cb9-c225cfc473f1",
   "metadata": {},
   "outputs": [],
   "source": [
    "def mygen():\n",
    "    yield 'A'\n",
    "    yield 'B'\n",
    "    yield 'C'\n",
    "    yield 'D'\n",
    "    yield 'E'\n",
    "    yield 'F'\n",
    "    yield 'G'\n",
    "    yield 'H'\n",
    "    yield 'I'"
   ]
  },
  {
   "cell_type": "code",
   "execution_count": 24,
   "id": "26c7bf03-0dac-4191-a4d2-a9e85dc2899a",
   "metadata": {},
   "outputs": [
    {
     "data": {
      "text/plain": [
       "generator"
      ]
     },
     "execution_count": 24,
     "metadata": {},
     "output_type": "execute_result"
    }
   ],
   "source": [
    "gen=mygen()\n",
    "type(gen)"
   ]
  },
  {
   "cell_type": "code",
   "execution_count": 34,
   "id": "f16f59ac-8b0b-4a74-9744-e427a31913cb",
   "metadata": {},
   "outputs": [
    {
     "ename": "StopIteration",
     "evalue": "",
     "output_type": "error",
     "traceback": [
      "\u001b[1;31m---------------------------------------------------------------------------\u001b[0m",
      "\u001b[1;31mStopIteration\u001b[0m                             Traceback (most recent call last)",
      "Cell \u001b[1;32mIn[34], line 1\u001b[0m\n\u001b[1;32m----> 1\u001b[0m \u001b[38;5;28;43mnext\u001b[39;49m\u001b[43m(\u001b[49m\u001b[43mgen\u001b[49m\u001b[43m)\u001b[49m\n",
      "\u001b[1;31mStopIteration\u001b[0m: "
     ]
    }
   ],
   "source": [
    "next(gen)"
   ]
  },
  {
   "cell_type": "code",
   "execution_count": 35,
   "id": "5842129e-3046-4992-81f6-8d9c914c9528",
   "metadata": {},
   "outputs": [
    {
     "name": "stdout",
     "output_type": "stream",
     "text": [
      "A\n",
      "B\n",
      "C\n",
      "D\n",
      "E\n",
      "F\n",
      "G\n",
      "H\n",
      "I\n"
     ]
    }
   ],
   "source": [
    "for item in mygen():\n",
    "    print(item)"
   ]
  }
 ],
 "metadata": {
  "kernelspec": {
   "display_name": "Python 3 (ipykernel)",
   "language": "python",
   "name": "python3"
  },
  "language_info": {
   "codemirror_mode": {
    "name": "ipython",
    "version": 3
   },
   "file_extension": ".py",
   "mimetype": "text/x-python",
   "name": "python",
   "nbconvert_exporter": "python",
   "pygments_lexer": "ipython3",
   "version": "3.12.7"
  }
 },
 "nbformat": 4,
 "nbformat_minor": 5
}
