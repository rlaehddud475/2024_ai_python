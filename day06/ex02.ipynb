{
 "cells": [
  {
   "cell_type": "code",
   "execution_count": 4,
   "id": "f8d21cab-3076-498c-ac25-cb9f1faf60b5",
   "metadata": {},
   "outputs": [
    {
     "name": "stdout",
     "output_type": "stream",
     "text": [
      "\n",
      "park 800905-*******\n",
      "kim  700905-*******\n",
      "\n"
     ]
    },
    {
     "name": "stderr",
     "output_type": "stream",
     "text": [
      "<>:6: SyntaxWarning: invalid escape sequence '\\d'\n",
      "<>:8: SyntaxWarning: invalid escape sequence '\\g'\n",
      "<>:6: SyntaxWarning: invalid escape sequence '\\d'\n",
      "<>:8: SyntaxWarning: invalid escape sequence '\\g'\n",
      "C:\\Users\\admin\\AppData\\Local\\Temp\\ipykernel_2228\\383161646.py:6: SyntaxWarning: invalid escape sequence '\\d'\n",
      "  p=re.compile(\"(\\d{6})[-]\\d{7}\")\n",
      "C:\\Users\\admin\\AppData\\Local\\Temp\\ipykernel_2228\\383161646.py:8: SyntaxWarning: invalid escape sequence '\\g'\n",
      "  print(p.sub(\"\\g<1>-*******\",data))\n"
     ]
    }
   ],
   "source": [
    "import re\n",
    "data = \"\"\"\n",
    "park 800905-1049118\n",
    "kim  700905-1059119\n",
    "\"\"\"\n",
    "p=re.compile(\"(\\d{6})[-]\\d{7}\")\n",
    "\n",
    "print(p.sub(\"\\g<1>-*******\",data))"
   ]
  },
  {
   "cell_type": "code",
   "execution_count": 5,
   "id": "5aca66d9-c2fd-4a7b-8e46-a056480ae3fa",
   "metadata": {},
   "outputs": [
    {
     "data": {
      "text/plain": [
       "<re.Match object; span=(0, 1), match='a'>"
      ]
     },
     "execution_count": 5,
     "metadata": {},
     "output_type": "execute_result"
    }
   ],
   "source": [
    "p=re.compile(\"[abc]\")\n",
    "p.match(\"a1234b\")"
   ]
  },
  {
   "cell_type": "code",
   "execution_count": 6,
   "id": "d405ad12-d085-4397-8de0-a025580d73dd",
   "metadata": {},
   "outputs": [
    {
     "data": {
      "text/plain": [
       "<re.Match object; span=(0, 1), match='A'>"
      ]
     },
     "execution_count": 6,
     "metadata": {},
     "output_type": "execute_result"
    }
   ],
   "source": [
    "p=re.compile(\"[a-zA-Z]\")\n",
    "p.match(\"ABC1234\")"
   ]
  },
  {
   "cell_type": "code",
   "execution_count": 7,
   "id": "c441edf6-bcba-4956-9924-a6c11e37668b",
   "metadata": {},
   "outputs": [
    {
     "data": {
      "text/plain": [
       "<re.Match object; span=(0, 1), match='1'>"
      ]
     },
     "execution_count": 7,
     "metadata": {},
     "output_type": "execute_result"
    }
   ],
   "source": [
    "p=re.compile(\"[0-9]\")\n",
    "p.match(\"1234ABC\")"
   ]
  },
  {
   "cell_type": "code",
   "execution_count": 10,
   "id": "a9fd9c4e-ccd4-46c4-9b2f-438fc4a8615d",
   "metadata": {},
   "outputs": [
    {
     "data": {
      "text/plain": [
       "<re.Match object; span=(0, 1), match='A'>"
      ]
     },
     "execution_count": 10,
     "metadata": {},
     "output_type": "execute_result"
    }
   ],
   "source": [
    "p=re.compile(\"[^0-9]\")\n",
    "p.match(\"ABC123\")"
   ]
  },
  {
   "cell_type": "code",
   "execution_count": 11,
   "id": "2bdee4c0-350b-4e43-9845-4e703c98a6ea",
   "metadata": {},
   "outputs": [
    {
     "data": {
      "text/plain": [
       "<re.Match object; span=(0, 1), match='!'>"
      ]
     },
     "execution_count": 11,
     "metadata": {},
     "output_type": "execute_result"
    }
   ],
   "source": [
    "p=re.compile(\"\\\\D\")\n",
    "p.match(\"!123ABC\")"
   ]
  },
  {
   "cell_type": "code",
   "execution_count": 13,
   "id": "06a1c5ee-2240-427c-80e5-9f570ea931e5",
   "metadata": {},
   "outputs": [
    {
     "data": {
      "text/plain": [
       "<re.Match object; span=(0, 1), match='1'>"
      ]
     },
     "execution_count": 13,
     "metadata": {},
     "output_type": "execute_result"
    }
   ],
   "source": [
    "p=re.compile(r\"\\d\")\n",
    "p.match(\"123ABC\")"
   ]
  },
  {
   "cell_type": "code",
   "execution_count": 18,
   "id": "631f2f78-9aa6-4f60-a822-37304f7124de",
   "metadata": {},
   "outputs": [
    {
     "data": {
      "text/plain": [
       "<re.Match object; span=(0, 5), match='a123b'>"
      ]
     },
     "execution_count": 18,
     "metadata": {},
     "output_type": "execute_result"
    }
   ],
   "source": [
    "p=re.compile(\"a...b\")\n",
    "p.match(\"a123b\")"
   ]
  },
  {
   "cell_type": "code",
   "execution_count": 30,
   "id": "68d1e6c6-d034-4543-a697-13b395a1c1b1",
   "metadata": {},
   "outputs": [
    {
     "name": "stdout",
     "output_type": "stream",
     "text": [
      "None\n",
      "<re.Match object; span=(0, 12), match='010-444-4444'>\n"
     ]
    }
   ],
   "source": [
    "p=re.compile(r\"^01[016]\\D*\\d{3,4}\\D*\\d{4}\")\n",
    "print(p.search(\"11111111111-11111-1111\"))\n",
    "print(p.search(\"010-444-4444\"))"
   ]
  },
  {
   "cell_type": "code",
   "execution_count": 20,
   "id": "04f175a8-085b-47df-bbc7-9dfebed2de82",
   "metadata": {},
   "outputs": [
    {
     "data": {
      "text/plain": [
       "<re.Match object; span=(0, 6), match='ABABAB'>"
      ]
     },
     "execution_count": 20,
     "metadata": {},
     "output_type": "execute_result"
    }
   ],
   "source": [
    "p=re.compile(r\"(AB)+\")\n",
    "p.match(\"ABABAB\")"
   ]
  },
  {
   "cell_type": "code",
   "execution_count": 21,
   "id": "881fdc65-9fe3-4257-bd68-a27655784885",
   "metadata": {},
   "outputs": [
    {
     "data": {
      "text/plain": [
       "<re.Match object; span=(0, 9), match='abc123abc'>"
      ]
     },
     "execution_count": 21,
     "metadata": {},
     "output_type": "execute_result"
    }
   ],
   "source": [
    "p=re.compile(r\".*\\d.*\")\n",
    "p.match(\"abc123ab\")"
   ]
  }
 ],
 "metadata": {
  "kernelspec": {
   "display_name": "Python 3 (ipykernel)",
   "language": "python",
   "name": "python3"
  },
  "language_info": {
   "codemirror_mode": {
    "name": "ipython",
    "version": 3
   },
   "file_extension": ".py",
   "mimetype": "text/x-python",
   "name": "python",
   "nbconvert_exporter": "python",
   "pygments_lexer": "ipython3",
   "version": "3.12.7"
  }
 },
 "nbformat": 4,
 "nbformat_minor": 5
}
