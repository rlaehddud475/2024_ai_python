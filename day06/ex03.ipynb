{
 "cells": [
  {
   "cell_type": "code",
   "execution_count": 4,
   "id": "77025f81-9bc2-4a0a-b734-1e4ca4f08e6c",
   "metadata": {},
   "outputs": [],
   "source": [
    "import requests\n",
    "response=requests.get(\"https://news.naver.com\")\n",
    "html=response.text"
   ]
  },
  {
   "cell_type": "code",
   "execution_count": 6,
   "id": "bed8c20e-7580-41ea-b054-328812cc9feb",
   "metadata": {},
   "outputs": [
    {
     "ename": "NameError",
     "evalue": "name 'htl' is not defined",
     "output_type": "error",
     "traceback": [
      "\u001b[1;31m---------------------------------------------------------------------------\u001b[0m",
      "\u001b[1;31mNameError\u001b[0m                                 Traceback (most recent call last)",
      "Cell \u001b[1;32mIn[6], line 6\u001b[0m\n\u001b[0;32m      2\u001b[0m \u001b[38;5;124;03m\"\"\"\u001b[39;00m\n\u001b[0;32m      3\u001b[0m \u001b[38;5;124;03m<img loading='lazy'src=\"https://mimgnews.pstatic.net/image/upload/office_logo/082/2019/08/22/logo_082_56_20190822111222.png?type=nf20_20\" width=\"10\" height=\"10\" alt=\"\" onerror=\"showNoImage(this)\">\u001b[39;00m\n\u001b[0;32m      4\u001b[0m \u001b[38;5;124;03m\"\"\"\u001b[39;00m\n\u001b[0;32m      5\u001b[0m p\u001b[38;5;241m=\u001b[39mre\u001b[38;5;241m.\u001b[39mcompile(\u001b[38;5;124mr\u001b[39m\u001b[38;5;124m\"\u001b[39m\u001b[38;5;124m<img[^>]+>\u001b[39m\u001b[38;5;124m\"\u001b[39m)\n\u001b[1;32m----> 6\u001b[0m imgs\u001b[38;5;241m=\u001b[39mp\u001b[38;5;241m.\u001b[39mfindall(\u001b[43mhtl\u001b[49m)\n\u001b[0;32m      7\u001b[0m \u001b[38;5;28;01mfor\u001b[39;00m img \u001b[38;5;129;01min\u001b[39;00m imgs:\n\u001b[0;32m      8\u001b[0m     \u001b[38;5;28mprint\u001b[39m(img)\n",
      "\u001b[1;31mNameError\u001b[0m: name 'htl' is not defined"
     ]
    }
   ],
   "source": [
    "import re\n",
    "\"\"\"\n",
    "<img loading='lazy'src=\"https://mimgnews.pstatic.net/image/upload/office_logo/082/2019/08/22/logo_082_56_20190822111222.png?type=nf20_20\" width=\"10\" height=\"10\" alt=\"\" onerror=\"showNoImage(this)\">\n",
    "\"\"\"\n",
    "p=re.compile(r\"<img[^>]+>\")\n",
    "imgs=p.findall(html)\n",
    "for img in imgs:\n",
    "    print(img)"
   ]
  },
  {
   "cell_type": "code",
   "execution_count": 13,
   "id": "417bea28-e504-47bb-99f9-ef046460a8d3",
   "metadata": {},
   "outputs": [
    {
     "name": "stdout",
     "output_type": "stream",
     "text": [
      "<span class=\"Nitem_link_menu\">언론사별</span>\n",
      "<span class=\"Nitem_link_menu\">정치</span>\n",
      "<span class=\"Nitem_link_menu\">경제</span>\n",
      "<span class=\"Nitem_link_menu\">사회</span>\n",
      "<span class=\"Nitem_link_menu\">생활/문화</span>\n",
      "<span class=\"Nitem_link_menu\">IT/과학</span>\n",
      "<span class=\"Nitem_link_menu\">세계</span>\n",
      "<span class=\"Nitem_link_menu\">랭킹</span>\n",
      "<span class=\"Nitem_link_menu\">신문보기</span>\n",
      "<span class=\"Nitem_link_menu\">오피니언</span>\n",
      "<span class=\"Nitem_link_menu\">TV</span>\n",
      "<span class=\"Nitem_link_menu\">팩트체크</span>\n",
      "<span class=\"Nitem_link_menu\">알고리즘 안내</span>\n",
      "<span class=\"Nitem_link_menu\">정정보도 모음</span>\n"
     ]
    }
   ],
   "source": [
    "import re\n",
    "\n",
    "p=re.compile(r\"<span.*class=['\\\"]Nitem_link_menu['\\\"][^>]*>[^<]+</span>\")\n",
    "items=p.findall(html)\n",
    "for item in items:\n",
    "    print(item)"
   ]
  },
  {
   "cell_type": "code",
   "execution_count": 33,
   "id": "96d87f0f-6016-4e82-bb25-e6a3c3f5bf7b",
   "metadata": {},
   "outputs": [],
   "source": [
    "import re\n",
    "\n",
    "p=re.compile(r\"<span.*class=['\\\"]Nitem_link_menu['\\\"][^>]*>[^<]+</span>\")\n",
    "itr=p.finditer(html)"
   ]
  },
  {
   "cell_type": "code",
   "execution_count": 35,
   "id": "26eeb0c3-bdc6-45ac-9830-cdb4f021d907",
   "metadata": {},
   "outputs": [],
   "source": [
    "for item in itr:\n",
    "    pri(item)"
   ]
  }
 ],
 "metadata": {
  "kernelspec": {
   "display_name": "Python 3 (ipykernel)",
   "language": "python",
   "name": "python3"
  },
  "language_info": {
   "codemirror_mode": {
    "name": "ipython",
    "version": 3
   },
   "file_extension": ".py",
   "mimetype": "text/x-python",
   "name": "python",
   "nbconvert_exporter": "python",
   "pygments_lexer": "ipython3",
   "version": "3.12.7"
  }
 },
 "nbformat": 4,
 "nbformat_minor": 5
}
