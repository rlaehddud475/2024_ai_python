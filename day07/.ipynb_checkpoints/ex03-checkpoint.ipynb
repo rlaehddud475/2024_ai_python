{
 "cells": [
  {
   "cell_type": "code",
   "execution_count": 9,
   "id": "7c96c53f-cbab-4d65-9330-20f7438f960f",
   "metadata": {},
   "outputs": [],
   "source": [
    "import requests\n",
    "import re"
   ]
  },
  {
   "cell_type": "code",
   "execution_count": 15,
   "id": "529c709b-e806-4ca9-b117-701a596163ff",
   "metadata": {},
   "outputs": [],
   "source": [
    "url=\"https://search.naver.com/search.naver?where=nexearch&sm=top_hty&fbm=0&ie=utf8&query=%EB%B8%94%EB%A1%9C%EA%B7%B8\"\n",
    "response=requests.get(url)\n",
    "html_text=response.text"
   ]
  },
  {
   "cell_type": "code",
   "execution_count": 16,
   "id": "075cbd2d-72b2-42e7-a41c-f10ed0b945dd",
   "metadata": {},
   "outputs": [],
   "source": [
    "pattern=r\"<img.*src=['\\\"]([^'\\\"]*)['\\\"][^>]*>\"\n",
    "p=re.compile(pattern,re.I)\n",
    "itr=p.finditer(html_text)"
   ]
  },
  {
   "cell_type": "code",
   "execution_count": 17,
   "id": "a8b035e8-4cb1-4a05-ab37-0d87f6dbb5aa",
   "metadata": {},
   "outputs": [
    {
     "name": "stdout",
     "output_type": "stream",
     "text": [
      "https://searchad-phinf.pstatic.net/MjAyMjAxMDZfMjYz/MDAxNjQxNDU1ODk1ODAy.oUkSIc_pZrIQApxPGzyEw9v3HPyHTEYrTA4sBteBEkcg.gs2ZPEDXfrDjII1ztVHm3yNDhfCnKi7xcpHGSFMowJUg.JPEG/698519-10d8930c-1b4a-42c9-a3bb-a748c8107e18.jpg?type=f160_160\n",
      "https://searchad-phinf.pstatic.net/MjAxOTA1MTdfMTQ0/MDAxNTU4MDU0MTk3MDk0.fZ-6uT8zFQqVcqZAM3gOsDMsWCC8y9kIf57rWtfU-7sg.7x6aqJr7Vt_ctHy940sV2pAraRPpLTFx0OPoS83s6lAg.JPEG/657843-41cbac80-9947-4ac8-931f-c0790f1abf21.jpg?type=f160_160\n",
      "https://searchad-phinf.pstatic.net/MjAxOTAyMjdfMjc0/MDAxNTUxMjQxNjAwOTU4.hBMqGu01NdosJaBkZT0sZZgF0HduCHvpn_wUyORy4i0g.oU1DjBpFicitGRYkDvmSJfcGOmA2-qNL3iahdbzQwbUg.JPEG/854674-d1397531-9919-4c23-924e-2541ff0020ad.JPG?type=f160_160\n",
      "https://searchad-phinf.pstatic.net/MjAyNDEwMTdfMTUz/MDAxNzI5MTU1NDQ2MTUx.gFtGXvhtFVZANygTlsPa-kNV2584HFFsd0Vt3gcTgPsg.AAYw5wZ0Z7ZlDHSHtJtP5Ku86189rdAzBw9RpyKiq8wg.PNG/3212819-6179f5f9-4558-474e-8ea5-bad8d99f4640.png?type=f160_160\n",
      "https://searchad-phinf.pstatic.net/MjAyNDAyMTVfMjQy/MDAxNzA3OTY1MDkzMDUw.PTlicxo0YV7MFccXcZTwLKcRJt8NrYUJ5E9yL4oqp-0g.x2HKx7kPDZVzGT8-UBnoqmKYrrAdXzyzVD9Fu3TO-TUg.PNG/944831-de047d41-7413-4555-834b-218969d4e25e.png?type=f160_160\n",
      "https://searchad-phinf.pstatic.net/MjAyMDA1MjBfNjQg/MDAxNTg5OTQyNjM4ODU5.XohNB7wvZT82LkPD7WR-sjgyz2dlGWdQyM6R9cg-qbog.Cjkb5SYZo5p6cOvRBDeREgzHl3h9wzqE9I3lVtZqP4wg.JPEG/369412-ede8a016-8cbf-438d-a9e2-83db217a39cf.JPG?type=f160_160\n",
      "data:image/gif;base64,R0lGODlhAQABAIAAAAAAAP///yH5BAEAAAAALAAAAAABAAEAAAIBRAA7\n",
      "https://search.pstatic.net/common/?src=https%3A%2F%2Fssl.pstatic.net%2Ft.static.blog%2Fpcfe%2Fstatic%2Fpc_favicon.ico%3F2&amp;type=f48_48\n",
      "https://search.pstatic.net/common/?src=https%3A%2F%2Ft1.daumcdn.net%2Ftistory_admin%2Ffavicon%2Ftistory_favicon_32x32.ico&amp;type=f48_48\n",
      "https://search.pstatic.net/common/?src=https%3A%2F%2Fssl.pstatic.net%2Ft.static.blog%2Fpcfe%2Fstatic%2Fpc_favicon.ico%3F2&amp;type=f48_48\n",
      "https://search.pstatic.net/common/?src=https%3A%2F%2Fssl.pstatic.net%2Fstatic.news%2Fimage%2Fnews%2Fpremium%2Fstudio%2Fmeta%2F2021%2F04%2F22%2Ffavicon_M.ico&amp;type=f48_48\n",
      "https://search.pstatic.net/common/?src=https%3A%2F%2Fimgnews.pstatic.net%2Fimage%2Forigin%2F5259%2F2024%2F11%2F24%2F419902.jpg&type=ofullfill208_208_empty&expire=2&refresh=true\n",
      "data:image/gif;base64,R0lGODlhAQABAIAAAAAAAP///yH5BAEAAAAALAAAAAABAAEAAAIBRAA7\n",
      "data:image/gif;base64,R0lGODlhAQABAIAAAAAAAP///yH5BAEAAAAALAAAAAABAAEAAAIBRAA7\n",
      "data:image/gif;base64,R0lGODlhAQABAIAAAAAAAP///yH5BAEAAAAALAAAAAABAAEAAAIBRAA7\n",
      "data:image/gif;base64,R0lGODlhAQABAIAAAAAAAP///yH5BAEAAAAALAAAAAABAAEAAAIBRAA7\n",
      "data:image/gif;base64,R0lGODlhAQABAIAAAAAAAP///yH5BAEAAAAALAAAAAABAAEAAAIBRAA7\n",
      "data:image/gif;base64,R0lGODlhAQABAIAAAAAAAP///yH5BAEAAAAALAAAAAABAAEAAAIBRAA7\n",
      "https://csearch-phinf.pstatic.net/20241025_99/1729823429117tylgU_PNG/760_31963112_marketing_banner_pc_icon_3_1729823429110.png\n"
     ]
    }
   ],
   "source": [
    "for m in itr:\n",
    "    print(m.group(1))"
   ]
  }
 ],
 "metadata": {
  "kernelspec": {
   "display_name": "Python 3 (ipykernel)",
   "language": "python",
   "name": "python3"
  },
  "language_info": {
   "codemirror_mode": {
    "name": "ipython",
    "version": 3
   },
   "file_extension": ".py",
   "mimetype": "text/x-python",
   "name": "python",
   "nbconvert_exporter": "python",
   "pygments_lexer": "ipython3",
   "version": "3.12.7"
  }
 },
 "nbformat": 4,
 "nbformat_minor": 5
}
