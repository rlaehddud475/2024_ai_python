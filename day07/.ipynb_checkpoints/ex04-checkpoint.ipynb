{
 "cells": [
  {
   "cell_type": "code",
   "execution_count": 2,
   "id": "d13bb290-43a1-42bf-bda7-70ea7f87fc01",
   "metadata": {},
   "outputs": [],
   "source": [
    "import re"
   ]
  },
  {
   "cell_type": "code",
   "execution_count": 4,
   "id": "800498d1-42c4-4921-a130-9f6af72dccb2",
   "metadata": {},
   "outputs": [],
   "source": [
    "data=\"\"\"\n",
    "이이름 010-1000-1000\n",
    "김이름 010-2000-2000\n",
    "\"\"\""
   ]
  },
  {
   "cell_type": "code",
   "execution_count": 7,
   "id": "45ce8cc9-4213-4d88-ba03-bd086848395a",
   "metadata": {},
   "outputs": [
    {
     "name": "stdout",
     "output_type": "stream",
     "text": [
      "['이이름 010-1000-1000', '김이름 010-2000-2000']\n"
     ]
    }
   ],
   "source": [
    "p=re.compile(r\"[a-zA-zㄱ-ㅎ가-힣]+\\s01[016]\\D*\\d{3,4}\\D*\\d{4}\")\n",
    "print(p.findall(data))"
   ]
  },
  {
   "cell_type": "code",
   "execution_count": 14,
   "id": "75643a9a-c279-4da3-8361-6e68c1361eaf",
   "metadata": {},
   "outputs": [],
   "source": [
    "p=re.compile(r\"([a-zA-zㄱ-ㅎ가-힣]+)\\s(01[016]\\D*\\d{3,4}\\D*\\d{4})\")"
   ]
  },
  {
   "cell_type": "code",
   "execution_count": 16,
   "id": "2d4fcc5b-e502-4670-a503-33c578b7c966",
   "metadata": {},
   "outputs": [
    {
     "name": "stdout",
     "output_type": "stream",
     "text": [
      "이이름 010-1000-1000\n",
      "이이름\n",
      "010-1000-1000\n",
      "김이름 010-2000-2000\n",
      "김이름\n",
      "010-2000-2000\n"
     ]
    }
   ],
   "source": [
    "for m in p.finditer(data):\n",
    "    print(m.group())\n",
    "    print(m.group(1))\n",
    "    print(m.group(2))"
   ]
  },
  {
   "cell_type": "code",
   "execution_count": 23,
   "id": "31d2fcde-64fd-43c4-bb55-7974f624c099",
   "metadata": {},
   "outputs": [
    {
     "name": "stdout",
     "output_type": "stream",
     "text": [
      "\n",
      "010-1000-1000 이이름\n",
      "010-2000-2000 김이름\n",
      "\n"
     ]
    }
   ],
   "source": [
    "p=re.compile(r\"([a-zA-zㄱ-ㅎ가-힣]+)\\s(01[016]\\D*\\d{3,4}\\D*\\d{4})\")\n",
    "a=p.sub(r\"\\g<2> \\g<1>\",data)\n",
    "print(a)"
   ]
  },
  {
   "cell_type": "code",
   "execution_count": 25,
   "id": "0303eb55-2c42-4ac7-b4ce-6c72d65d4ba5",
   "metadata": {},
   "outputs": [],
   "source": [
    "a=\"111 ab ab 222\"\n"
   ]
  },
  {
   "cell_type": "code",
   "execution_count": 29,
   "id": "c7d2e81e-2495-489c-a689-ffb0910f8000",
   "metadata": {},
   "outputs": [
    {
     "data": {
      "text/plain": [
       "<re.Match object; span=(4, 9), match='ab ab'>"
      ]
     },
     "execution_count": 29,
     "metadata": {},
     "output_type": "execute_result"
    }
   ],
   "source": [
    "p=re.compile(r\"(ab)\\s\\1\")\n",
    "p.search(a)"
   ]
  },
  {
   "cell_type": "code",
   "execution_count": 30,
   "id": "613fa14b-a9a6-430c-8f4a-e3cc341fd108",
   "metadata": {},
   "outputs": [
    {
     "name": "stdout",
     "output_type": "stream",
     "text": [
      "\n",
      "010-1000-1000 이이름\n",
      "010-2000-2000 김이름\n",
      "\n"
     ]
    }
   ],
   "source": [
    "p=re.compile(r\"(?P<name>[a-zA-zㄱ-ㅎ가-힣]+)\\s(?P<phone>01[016]\\D*\\d{3,4}\\D*\\d{4})\")\n",
    "a=p.sub(r\"\\g<phone> \\g<name>\",data)\n",
    "print(a)"
   ]
  }
 ],
 "metadata": {
  "kernelspec": {
   "display_name": "Python 3 (ipykernel)",
   "language": "python",
   "name": "python3"
  },
  "language_info": {
   "codemirror_mode": {
    "name": "ipython",
    "version": 3
   },
   "file_extension": ".py",
   "mimetype": "text/x-python",
   "name": "python",
   "nbconvert_exporter": "python",
   "pygments_lexer": "ipython3",
   "version": "3.12.7"
  }
 },
 "nbformat": 4,
 "nbformat_minor": 5
}
