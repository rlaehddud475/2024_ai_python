{
 "cells": [
  {
   "cell_type": "code",
   "execution_count": 3,
   "id": "3840c656-051c-4b0b-9ac3-370706e157fd",
   "metadata": {},
   "outputs": [],
   "source": [
    "import re\n",
    "p=re.compile(\"a.b\")\n",
    "#p.match(\"a1b\")\n",
    "p.match(\"a\\b\")"
   ]
  },
  {
   "cell_type": "code",
   "execution_count": 6,
   "id": "1d606857-2aa0-46a2-a226-3c3a3daba5b2",
   "metadata": {},
   "outputs": [
    {
     "data": {
      "text/plain": [
       "<re.Match object; span=(0, 3), match='a\\nb'>"
      ]
     },
     "execution_count": 6,
     "metadata": {},
     "output_type": "execute_result"
    }
   ],
   "source": [
    "p=re.compile(\"a.b\",re.S)\n",
    "p.match(\"a\\nb\")"
   ]
  },
  {
   "cell_type": "code",
   "execution_count": 19,
   "id": "e0ba4a51-4ecd-41f3-8a60-3c1e7caa53d6",
   "metadata": {},
   "outputs": [
    {
     "data": {
      "text/plain": [
       "<re.Match object; span=(0, 6), match='Python'>"
      ]
     },
     "execution_count": 19,
     "metadata": {},
     "output_type": "execute_result"
    }
   ],
   "source": [
    "#p=re.compile(\"[a-zA-Z]+\")\n",
    "#p=re.compile(\"[a-z]+,\",re.IGNORECASE)\n",
    "p=re.compile(\"[a-z]+\", re.I)\n",
    "p.match(\"Python\")"
   ]
  },
  {
   "cell_type": "code",
   "execution_count": null,
   "id": "dd48d69f-a673-47e1-8191-f9f811539511",
   "metadata": {},
   "outputs": [],
   "source": []
  }
 ],
 "metadata": {
  "kernelspec": {
   "display_name": "Python 3 (ipykernel)",
   "language": "python",
   "name": "python3"
  },
  "language_info": {
   "codemirror_mode": {
    "name": "ipython",
    "version": 3
   },
   "file_extension": ".py",
   "mimetype": "text/x-python",
   "name": "python",
   "nbconvert_exporter": "python",
   "pygments_lexer": "ipython3",
   "version": "3.12.7"
  }
 },
 "nbformat": 4,
 "nbformat_minor": 5
}
