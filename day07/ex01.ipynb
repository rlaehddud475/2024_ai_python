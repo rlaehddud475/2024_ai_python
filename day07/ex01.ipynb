{
 "cells": [
  {
   "cell_type": "code",
   "execution_count": 1,
   "id": "3840c656-051c-4b0b-9ac3-370706e157fd",
   "metadata": {},
   "outputs": [],
   "source": [
    "import re\n",
    "p=re.compile(\"a.b\")\n",
    "#p.match(\"a1b\")\n",
    "p.match(\"a\\b\")"
   ]
  },
  {
   "cell_type": "code",
   "execution_count": 2,
   "id": "1d606857-2aa0-46a2-a226-3c3a3daba5b2",
   "metadata": {},
   "outputs": [
    {
     "data": {
      "text/plain": [
       "<re.Match object; span=(0, 3), match='a\\nb'>"
      ]
     },
     "execution_count": 2,
     "metadata": {},
     "output_type": "execute_result"
    }
   ],
   "source": [
    "p=re.compile(\"a.b\",re.S)\n",
    "p.match(\"a\\nb\")"
   ]
  },
  {
   "cell_type": "code",
   "execution_count": 3,
   "id": "e0ba4a51-4ecd-41f3-8a60-3c1e7caa53d6",
   "metadata": {},
   "outputs": [
    {
     "data": {
      "text/plain": [
       "<re.Match object; span=(0, 6), match='Python'>"
      ]
     },
     "execution_count": 3,
     "metadata": {},
     "output_type": "execute_result"
    }
   ],
   "source": [
    "#p=re.compile(\"[a-zA-Z]+\")\n",
    "#p=re.compile(\"[a-z]+,\",re.IGNORECASE)\n",
    "p=re.compile(\"[a-z]+\", re.I)\n",
    "p.match(\"Python\")"
   ]
  },
  {
   "cell_type": "code",
   "execution_count": 4,
   "id": "dd48d69f-a673-47e1-8191-f9f811539511",
   "metadata": {},
   "outputs": [
    {
     "name": "stdout",
     "output_type": "stream",
     "text": [
      "['python one12', 'python two', 'python three']\n"
     ]
    }
   ],
   "source": [
    "str=\"\"\"python one12\n",
    "liofe is short\n",
    "python two\n",
    "you need python\n",
    "python three\"\"\"\n",
    "\n",
    "#p=re.compile(r\"^python\\s\\w+\")\n",
    "p=re.compile(r\"^python\\s\\w+\",re.M)\n",
    "items=p.findall(str)\n",
    "print(items)"
   ]
  },
  {
   "cell_type": "code",
   "execution_count": 5,
   "id": "233503da-c591-4d9b-ad27-b33e16b735e0",
   "metadata": {},
   "outputs": [
    {
     "data": {
      "text/plain": [
       "<re.Match object; span=(0, 5), match='ab cd'>"
      ]
     },
     "execution_count": 5,
     "metadata": {},
     "output_type": "execute_result"
    }
   ],
   "source": [
    "p=re.compile(r\"ab\\scd\")\n",
    "p.match(\"ab cd\")"
   ]
  },
  {
   "cell_type": "code",
   "execution_count": 6,
   "id": "0828fd75-eb8d-443b-a292-7c63b285dc5f",
   "metadata": {},
   "outputs": [
    {
     "data": {
      "text/plain": [
       "<re.Match object; span=(6, 12), match='orange'>"
      ]
     },
     "execution_count": 6,
     "metadata": {},
     "output_type": "execute_result"
    }
   ],
   "source": [
    "p=re.compile(\"apple|orange|melon\")\n",
    "p.search(\"three oranges\")"
   ]
  },
  {
   "cell_type": "code",
   "execution_count": 7,
   "id": "bcdcfd9f-8816-445b-b697-380c8da2b0da",
   "metadata": {},
   "outputs": [
    {
     "data": {
      "text/plain": [
       "<re.Match object; span=(0, 13), match='010/1000/1000'>"
      ]
     },
     "execution_count": 7,
     "metadata": {},
     "output_type": "execute_result"
    }
   ],
   "source": [
    "p=re.compile(r\"^01[016]\\D*\\d{3,4}\\D*\\d{4}$\")\n",
    "p.search(\"010/1000/1000\")"
   ]
  },
  {
   "cell_type": "code",
   "execution_count": 8,
   "id": "d8c055ee-f489-4c0c-b191-20486c5cc6a2",
   "metadata": {},
   "outputs": [
    {
     "data": {
      "text/plain": [
       "<re.Match object; span=(0, 5), match='class'>"
      ]
     },
     "execution_count": 8,
     "metadata": {},
     "output_type": "execute_result"
    }
   ],
   "source": [
    "p = re.compile(r\"\\bclass\\b\")\n",
    "p.search(\"my class is over 6pm\")\n",
    "p.search(\"class is over 6pm\")"
   ]
  },
  {
   "cell_type": "code",
   "execution_count": 9,
   "id": "f631529e-afd4-4930-9b61-bb789962bebe",
   "metadata": {},
   "outputs": [
    {
     "data": {
      "text/plain": [
       "<re.Match object; span=(6, 11), match='class'>"
      ]
     },
     "execution_count": 9,
     "metadata": {},
     "output_type": "execute_result"
    }
   ],
   "source": [
    "p = re.compile(r\"\\Bclass\\b\")\n",
    "p.search(\"my subclass is over 6pm\")"
   ]
  },
  {
   "cell_type": "code",
   "execution_count": 10,
   "id": "37042a6a-ebf0-4ecd-9ae7-943e0c3af386",
   "metadata": {},
   "outputs": [
    {
     "data": {
      "text/plain": [
       "<re.Match object; span=(0, 6), match='ABCABC'>"
      ]
     },
     "execution_count": 10,
     "metadata": {},
     "output_type": "execute_result"
    }
   ],
   "source": [
    "p=re.compile(\"(ABC){2}\")\n",
    "p.match(\"ABCABCABC\")"
   ]
  }
 ],
 "metadata": {
  "kernelspec": {
   "display_name": "Python 3 (ipykernel)",
   "language": "python",
   "name": "python3"
  },
  "language_info": {
   "codemirror_mode": {
    "name": "ipython",
    "version": 3
   },
   "file_extension": ".py",
   "mimetype": "text/x-python",
   "name": "python",
   "nbconvert_exporter": "python",
   "pygments_lexer": "ipython3",
   "version": "3.12.7"
  }
 },
 "nbformat": 4,
 "nbformat_minor": 5
}
