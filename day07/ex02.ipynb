{
 "cells": [
  {
   "cell_type": "code",
   "execution_count": null,
   "id": "6e01cf3a-e8f5-49b8-bf95-c8be54f258b3",
   "metadata": {},
   "outputs": [],
   "source": [
    "p=re.compile(\"apple|orange|melon\")\n",
    "p.search(\"three oranges\")"
   ]
  },
  {
   "cell_type": "code",
   "execution_count": null,
   "id": "6e591ce0-fc1d-4244-8e50-2d648cd30d15",
   "metadata": {},
   "outputs": [],
   "source": [
    "p=re.compile(r\"^01[016]\\D*\\d{3,4}\\D*\\d{4}$\")\n",
    "p.search(\"010/1000/1000\")"
   ]
  },
  {
   "cell_type": "code",
   "execution_count": null,
   "id": "9b135beb-464b-42af-8197-4c5d27a3c9ce",
   "metadata": {},
   "outputs": [],
   "source": [
    "p = re.compile(r\"\\bclass\\b\")\n",
    "p.search(\"my class is over 6pm\")\n",
    "p.search(\"class is over 6pm\")"
   ]
  },
  {
   "cell_type": "code",
   "execution_count": null,
   "id": "9c21890a-256d-400c-82f0-4c14e997c7ee",
   "metadata": {},
   "outputs": [],
   "source": [
    "p = re.compile(r\"\\Bclass\\b\")\n",
    "p.search(\"my subclass is over 6pm\")"
   ]
  },
  {
   "cell_type": "code",
   "execution_count": null,
   "id": "7145dc31-fe4e-4552-9566-ec61aadaa56e",
   "metadata": {},
   "outputs": [],
   "source": [
    "p=re.compile(\"(ABC){2}\")\n",
    "p.match(\"ABCABCABC\")"
   ]
  }
 ],
 "metadata": {
  "kernelspec": {
   "display_name": "Python 3 (ipykernel)",
   "language": "python",
   "name": "python3"
  },
  "language_info": {
   "codemirror_mode": {
    "name": "ipython",
    "version": 3
   },
   "file_extension": ".py",
   "mimetype": "text/x-python",
   "name": "python",
   "nbconvert_exporter": "python",
   "pygments_lexer": "ipython3",
   "version": "3.12.7"
  }
 },
 "nbformat": 4,
 "nbformat_minor": 5
}
