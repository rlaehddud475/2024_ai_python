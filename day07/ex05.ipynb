{
 "cells": [
  {
   "cell_type": "code",
   "execution_count": 2,
   "id": "af59a90d-af68-408e-a4c0-d9a34b1e14c9",
   "metadata": {},
   "outputs": [],
   "source": [
    "import re\n",
    "url=\"http://www.naver.com\""
   ]
  },
  {
   "cell_type": "code",
   "execution_count": 3,
   "id": "2fdfd7a4-addd-4564-a694-c454d578fe78",
   "metadata": {},
   "outputs": [
    {
     "data": {
      "text/plain": [
       "<re.Match object; span=(0, 7), match='http://'>"
      ]
     },
     "execution_count": 3,
     "metadata": {},
     "output_type": "execute_result"
    }
   ],
   "source": [
    "p=re.compile(r\"http[s]?://\")\n",
    "p.match(url)"
   ]
  },
  {
   "cell_type": "code",
   "execution_count": 5,
   "id": "e0a28820-bff9-43b5-a962-b3b68acfce4d",
   "metadata": {},
   "outputs": [
    {
     "data": {
      "text/plain": [
       "<re.Match object; span=(0, 7), match='http://'>"
      ]
     },
     "execution_count": 5,
     "metadata": {},
     "output_type": "execute_result"
    }
   ],
   "source": [
    "p=re.compile(r\".+(?://)\")\n",
    "p.match(url)"
   ]
  },
  {
   "cell_type": "code",
   "execution_count": 7,
   "id": "ad940cf6-3a6c-4c9e-9f29-487c2d1638e1",
   "metadata": {},
   "outputs": [
    {
     "name": "stdout",
     "output_type": "stream",
     "text": [
      "http://www.naver.com\n"
     ]
    }
   ],
   "source": [
    "urls=[\"abc\",\"def\",\"http://www.naver.com\",\"ghi\"]\n",
    "for url in urls:\n",
    "    if p.match(url):\n",
    "        print(url)"
   ]
  },
  {
   "cell_type": "code",
   "execution_count": 13,
   "id": "4df61188-d5ac-4805-aaa7-b476eaee6c8e",
   "metadata": {},
   "outputs": [
    {
     "name": "stdout",
     "output_type": "stream",
     "text": [
      "abc\n",
      "def\n",
      "http://www.naver.com\n",
      "ghi\n"
     ]
    }
   ],
   "source": [
    "p=re.compile(r\".+(?!://)\")\n",
    "for url in urls:\n",
    "    if p.match(url):\n",
    "        print(url)"
   ]
  },
  {
   "cell_type": "code",
   "execution_count": 15,
   "id": "2ad19f07-57d0-4ad1-af70-f24275a94679",
   "metadata": {},
   "outputs": [],
   "source": [
    "a=\"<html><head><title>title</title></head></html>\""
   ]
  },
  {
   "cell_type": "code",
   "execution_count": 16,
   "id": "7615c987-1910-4ff7-afe2-f3abdf71820e",
   "metadata": {},
   "outputs": [
    {
     "data": {
      "text/plain": [
       "'<html><head><title>title</title></head></html>'"
      ]
     },
     "execution_count": 16,
     "metadata": {},
     "output_type": "execute_result"
    }
   ],
   "source": [
    "p=re.compile(r\"<.*>\")\n",
    "p.match(a).group()"
   ]
  },
  {
   "cell_type": "code",
   "execution_count": 17,
   "id": "f2db8289-624d-4941-8ddf-9563c4c79c4f",
   "metadata": {},
   "outputs": [
    {
     "data": {
      "text/plain": [
       "'<html>'"
      ]
     },
     "execution_count": 17,
     "metadata": {},
     "output_type": "execute_result"
    }
   ],
   "source": [
    "p=re.compile(r\"<.*?>\")\n",
    "p.match(a).group()"
   ]
  },
  {
   "cell_type": "code",
   "execution_count": 21,
   "id": "46517704-7060-4049-95e9-3b716cdb5550",
   "metadata": {},
   "outputs": [
    {
     "data": {
      "text/plain": [
       "('1 fruits, 2 fruites, 3 melons', 2)"
      ]
     },
     "execution_count": 21,
     "metadata": {},
     "output_type": "execute_result"
    }
   ],
   "source": [
    "p=re.compile(\"apple|orang|melon\")\n",
    "str=\"1 apples, 2 oranges, 3 melons\"\n",
    "#p.sub(\"fruit\",str)\n",
    "p.subn(\"fruit\",str,2)"
   ]
  }
 ],
 "metadata": {
  "kernelspec": {
   "display_name": "Python 3 (ipykernel)",
   "language": "python",
   "name": "python3"
  },
  "language_info": {
   "codemirror_mode": {
    "name": "ipython",
    "version": 3
   },
   "file_extension": ".py",
   "mimetype": "text/x-python",
   "name": "python",
   "nbconvert_exporter": "python",
   "pygments_lexer": "ipython3",
   "version": "3.12.7"
  }
 },
 "nbformat": 4,
 "nbformat_minor": 5
}
